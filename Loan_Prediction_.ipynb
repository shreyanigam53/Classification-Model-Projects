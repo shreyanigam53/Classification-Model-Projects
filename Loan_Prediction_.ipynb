{
  "cells": [
    {
      "cell_type": "markdown",
      "metadata": {
        "id": "om0qydgUvWII"
      },
      "source": [
        "## The Problem Statement & Objective:"
      ]
    },
    {
      "cell_type": "markdown",
      "metadata": {
        "id": "ILz-ge09vWIL"
      },
      "source": [
        "### Dream Housing Finance company deals in all home loans. They have presence across all urban, semi urban and rural areas. Customer first apply for home loan after that company validates the customer eligibility for loan. The Company wants to automate the loan eligibility process (real time) based on customer detail provided while filling online application form. These details are Gender, Marital Status, Education, Number of Dependents, Income, Loan Amount, Credit History and others.\n",
        "\n",
        "### This is a classification problem , given information about the application we have to predict whether the they’ll be to pay the loan or not."
      ]
    },
    {
      "cell_type": "markdown",
      "metadata": {
        "id": "L7XI5JakvWIM"
      },
      "source": [
        "## Data Dictionary:"
      ]
    },
    {
      "cell_type": "markdown",
      "metadata": {
        "id": "Hj2Es-GVvWIM"
      },
      "source": [
        "#### Loan_ID : Unique Loan ID\n",
        "#### Gender : Male/ Female\n",
        "#### Married : Applicant married (Y/N)\n",
        "#### Dependents : Number of dependents\n",
        "#### Education : Applicant Education (Graduate/ Under Graduate)\n",
        "#### Self_Employed : Self employed (Y/N)\n",
        "#### ApplicantIncome : Applicant income\n",
        "#### CoapplicantIncome : Coapplicant income\n",
        "#### LoanAmount : Loan amount in thousands of dollars\n",
        "#### Loan_Amount_Term : Term of loan in months\n",
        "#### Credit_History : credit history meets guidelines yes or no\n",
        "#### Property_Area : Urban/ Semi Urban/ Rural\n",
        "#### Loan_Status : Loan approved (Y/N) this is the target variable"
      ]
    },
    {
      "cell_type": "markdown",
      "metadata": {
        "id": "TFXC-pPwvWIN"
      },
      "source": [
        "## Let's import the libraries:"
      ]
    },
    {
      "cell_type": "code",
      "execution_count": null,
      "metadata": {
        "id": "NGIazK_MvWIN"
      },
      "outputs": [],
      "source": [
        "import matplotlib.pyplot as plt\n",
        "import pandas as pd\n",
        "import seaborn as sns\n",
        "%matplotlib inline\n",
        "import numpy as np"
      ]
    },
    {
      "cell_type": "markdown",
      "metadata": {
        "id": "YcCoUaIhvWIO"
      },
      "source": [
        "## Load The Data:"
      ]
    },
    {
      "cell_type": "code",
      "execution_count": null,
      "metadata": {
        "id": "H76u-LADvWIO"
      },
      "outputs": [],
      "source": [
        "df_train = pd.read_csv('Train_Loan_Prediction.csv')\n",
        "df_test = pd.read_csv('Test_Loan_Prediction.csv')"
      ]
    },
    {
      "cell_type": "markdown",
      "metadata": {
        "id": "Xe0BbWgcvWIP"
      },
      "source": [
        "## Check the data:"
      ]
    },
    {
      "cell_type": "code",
      "execution_count": null,
      "metadata": {
        "id": "QkbIli6yvWIP",
        "outputId": "3330a06b-4fc6-4268-885c-ad6f544e8e48"
      },
      "outputs": [
        {
          "data": {
            "text/plain": [
              "(614, 13)"
            ]
          },
          "execution_count": 8,
          "metadata": {},
          "output_type": "execute_result"
        }
      ],
      "source": [
        "df_train.shape"
      ]
    },
    {
      "cell_type": "code",
      "execution_count": null,
      "metadata": {
        "id": "zvEZuBtTvWIQ",
        "outputId": "f5c4211c-583d-4124-9f16-b6bf4a1df664"
      },
      "outputs": [
        {
          "data": {
            "text/plain": [
              "(367, 12)"
            ]
          },
          "execution_count": 9,
          "metadata": {},
          "output_type": "execute_result"
        }
      ],
      "source": [
        "df_test.shape"
      ]
    },
    {
      "cell_type": "code",
      "execution_count": null,
      "metadata": {
        "id": "HUCSVLLNvWIQ",
        "outputId": "4470ad1e-7b32-439c-abb2-204469271814"
      },
      "outputs": [
        {
          "data": {
            "text/plain": [
              "Index(['Loan_ID', 'Gender', 'Married', 'Dependents', 'Education',\n",
              "       'Self_Employed', 'ApplicantIncome', 'CoapplicantIncome', 'LoanAmount',\n",
              "       'Loan_Amount_Term', 'Credit_History', 'Property_Area', 'Loan_Status'],\n",
              "      dtype='object')"
            ]
          },
          "execution_count": 10,
          "metadata": {},
          "output_type": "execute_result"
        }
      ],
      "source": [
        "df_train.columns"
      ]
    },
    {
      "cell_type": "code",
      "execution_count": null,
      "metadata": {
        "id": "W7ODhOZDvWIQ",
        "outputId": "d2035198-31d1-4d72-c5cf-8f499c68ce7c"
      },
      "outputs": [
        {
          "data": {
            "text/plain": [
              "Index(['Loan_ID', 'Gender', 'Married', 'Dependents', 'Education',\n",
              "       'Self_Employed', 'ApplicantIncome', 'CoapplicantIncome', 'LoanAmount',\n",
              "       'Loan_Amount_Term', 'Credit_History', 'Property_Area'],\n",
              "      dtype='object')"
            ]
          },
          "execution_count": 11,
          "metadata": {},
          "output_type": "execute_result"
        }
      ],
      "source": [
        "df_test.columns"
      ]
    },
    {
      "cell_type": "code",
      "execution_count": null,
      "metadata": {
        "id": "RB-zcGKLvWIR",
        "outputId": "2303f083-11d3-4618-dd7a-65c6f626b586"
      },
      "outputs": [
        {
          "data": {
            "text/html": [
              "<div>\n",
              "<style scoped>\n",
              "    .dataframe tbody tr th:only-of-type {\n",
              "        vertical-align: middle;\n",
              "    }\n",
              "\n",
              "    .dataframe tbody tr th {\n",
              "        vertical-align: top;\n",
              "    }\n",
              "\n",
              "    .dataframe thead th {\n",
              "        text-align: right;\n",
              "    }\n",
              "</style>\n",
              "<table border=\"1\" class=\"dataframe\">\n",
              "  <thead>\n",
              "    <tr style=\"text-align: right;\">\n",
              "      <th></th>\n",
              "      <th>Loan_ID</th>\n",
              "      <th>Gender</th>\n",
              "      <th>Married</th>\n",
              "      <th>Dependents</th>\n",
              "      <th>Education</th>\n",
              "      <th>Self_Employed</th>\n",
              "      <th>ApplicantIncome</th>\n",
              "      <th>CoapplicantIncome</th>\n",
              "      <th>LoanAmount</th>\n",
              "      <th>Loan_Amount_Term</th>\n",
              "      <th>Credit_History</th>\n",
              "      <th>Property_Area</th>\n",
              "      <th>Loan_Status</th>\n",
              "    </tr>\n",
              "  </thead>\n",
              "  <tbody>\n",
              "    <tr>\n",
              "      <th>0</th>\n",
              "      <td>LP001002</td>\n",
              "      <td>Male</td>\n",
              "      <td>No</td>\n",
              "      <td>0</td>\n",
              "      <td>Graduate</td>\n",
              "      <td>No</td>\n",
              "      <td>5849</td>\n",
              "      <td>0.0</td>\n",
              "      <td>NaN</td>\n",
              "      <td>360.0</td>\n",
              "      <td>1.0</td>\n",
              "      <td>Urban</td>\n",
              "      <td>Y</td>\n",
              "    </tr>\n",
              "    <tr>\n",
              "      <th>1</th>\n",
              "      <td>LP001003</td>\n",
              "      <td>Male</td>\n",
              "      <td>Yes</td>\n",
              "      <td>1</td>\n",
              "      <td>Graduate</td>\n",
              "      <td>No</td>\n",
              "      <td>4583</td>\n",
              "      <td>1508.0</td>\n",
              "      <td>128.0</td>\n",
              "      <td>360.0</td>\n",
              "      <td>1.0</td>\n",
              "      <td>Rural</td>\n",
              "      <td>N</td>\n",
              "    </tr>\n",
              "    <tr>\n",
              "      <th>2</th>\n",
              "      <td>LP001005</td>\n",
              "      <td>Male</td>\n",
              "      <td>Yes</td>\n",
              "      <td>0</td>\n",
              "      <td>Graduate</td>\n",
              "      <td>Yes</td>\n",
              "      <td>3000</td>\n",
              "      <td>0.0</td>\n",
              "      <td>66.0</td>\n",
              "      <td>360.0</td>\n",
              "      <td>1.0</td>\n",
              "      <td>Urban</td>\n",
              "      <td>Y</td>\n",
              "    </tr>\n",
              "    <tr>\n",
              "      <th>3</th>\n",
              "      <td>LP001006</td>\n",
              "      <td>Male</td>\n",
              "      <td>Yes</td>\n",
              "      <td>0</td>\n",
              "      <td>Not Graduate</td>\n",
              "      <td>No</td>\n",
              "      <td>2583</td>\n",
              "      <td>2358.0</td>\n",
              "      <td>120.0</td>\n",
              "      <td>360.0</td>\n",
              "      <td>1.0</td>\n",
              "      <td>Urban</td>\n",
              "      <td>Y</td>\n",
              "    </tr>\n",
              "    <tr>\n",
              "      <th>4</th>\n",
              "      <td>LP001008</td>\n",
              "      <td>Male</td>\n",
              "      <td>No</td>\n",
              "      <td>0</td>\n",
              "      <td>Graduate</td>\n",
              "      <td>No</td>\n",
              "      <td>6000</td>\n",
              "      <td>0.0</td>\n",
              "      <td>141.0</td>\n",
              "      <td>360.0</td>\n",
              "      <td>1.0</td>\n",
              "      <td>Urban</td>\n",
              "      <td>Y</td>\n",
              "    </tr>\n",
              "    <tr>\n",
              "      <th>5</th>\n",
              "      <td>LP001011</td>\n",
              "      <td>Male</td>\n",
              "      <td>Yes</td>\n",
              "      <td>2</td>\n",
              "      <td>Graduate</td>\n",
              "      <td>Yes</td>\n",
              "      <td>5417</td>\n",
              "      <td>4196.0</td>\n",
              "      <td>267.0</td>\n",
              "      <td>360.0</td>\n",
              "      <td>1.0</td>\n",
              "      <td>Urban</td>\n",
              "      <td>Y</td>\n",
              "    </tr>\n",
              "    <tr>\n",
              "      <th>6</th>\n",
              "      <td>LP001013</td>\n",
              "      <td>Male</td>\n",
              "      <td>Yes</td>\n",
              "      <td>0</td>\n",
              "      <td>Not Graduate</td>\n",
              "      <td>No</td>\n",
              "      <td>2333</td>\n",
              "      <td>1516.0</td>\n",
              "      <td>95.0</td>\n",
              "      <td>360.0</td>\n",
              "      <td>1.0</td>\n",
              "      <td>Urban</td>\n",
              "      <td>Y</td>\n",
              "    </tr>\n",
              "    <tr>\n",
              "      <th>7</th>\n",
              "      <td>LP001014</td>\n",
              "      <td>Male</td>\n",
              "      <td>Yes</td>\n",
              "      <td>3+</td>\n",
              "      <td>Graduate</td>\n",
              "      <td>No</td>\n",
              "      <td>3036</td>\n",
              "      <td>2504.0</td>\n",
              "      <td>158.0</td>\n",
              "      <td>360.0</td>\n",
              "      <td>0.0</td>\n",
              "      <td>Semiurban</td>\n",
              "      <td>N</td>\n",
              "    </tr>\n",
              "    <tr>\n",
              "      <th>8</th>\n",
              "      <td>LP001018</td>\n",
              "      <td>Male</td>\n",
              "      <td>Yes</td>\n",
              "      <td>2</td>\n",
              "      <td>Graduate</td>\n",
              "      <td>No</td>\n",
              "      <td>4006</td>\n",
              "      <td>1526.0</td>\n",
              "      <td>168.0</td>\n",
              "      <td>360.0</td>\n",
              "      <td>1.0</td>\n",
              "      <td>Urban</td>\n",
              "      <td>Y</td>\n",
              "    </tr>\n",
              "    <tr>\n",
              "      <th>9</th>\n",
              "      <td>LP001020</td>\n",
              "      <td>Male</td>\n",
              "      <td>Yes</td>\n",
              "      <td>1</td>\n",
              "      <td>Graduate</td>\n",
              "      <td>No</td>\n",
              "      <td>12841</td>\n",
              "      <td>10968.0</td>\n",
              "      <td>349.0</td>\n",
              "      <td>360.0</td>\n",
              "      <td>1.0</td>\n",
              "      <td>Semiurban</td>\n",
              "      <td>N</td>\n",
              "    </tr>\n",
              "  </tbody>\n",
              "</table>\n",
              "</div>"
            ],
            "text/plain": [
              "    Loan_ID Gender Married Dependents     Education Self_Employed  \\\n",
              "0  LP001002   Male      No          0      Graduate            No   \n",
              "1  LP001003   Male     Yes          1      Graduate            No   \n",
              "2  LP001005   Male     Yes          0      Graduate           Yes   \n",
              "3  LP001006   Male     Yes          0  Not Graduate            No   \n",
              "4  LP001008   Male      No          0      Graduate            No   \n",
              "5  LP001011   Male     Yes          2      Graduate           Yes   \n",
              "6  LP001013   Male     Yes          0  Not Graduate            No   \n",
              "7  LP001014   Male     Yes         3+      Graduate            No   \n",
              "8  LP001018   Male     Yes          2      Graduate            No   \n",
              "9  LP001020   Male     Yes          1      Graduate            No   \n",
              "\n",
              "   ApplicantIncome  CoapplicantIncome  LoanAmount  Loan_Amount_Term  \\\n",
              "0             5849                0.0         NaN             360.0   \n",
              "1             4583             1508.0       128.0             360.0   \n",
              "2             3000                0.0        66.0             360.0   \n",
              "3             2583             2358.0       120.0             360.0   \n",
              "4             6000                0.0       141.0             360.0   \n",
              "5             5417             4196.0       267.0             360.0   \n",
              "6             2333             1516.0        95.0             360.0   \n",
              "7             3036             2504.0       158.0             360.0   \n",
              "8             4006             1526.0       168.0             360.0   \n",
              "9            12841            10968.0       349.0             360.0   \n",
              "\n",
              "   Credit_History Property_Area Loan_Status  \n",
              "0             1.0         Urban           Y  \n",
              "1             1.0         Rural           N  \n",
              "2             1.0         Urban           Y  \n",
              "3             1.0         Urban           Y  \n",
              "4             1.0         Urban           Y  \n",
              "5             1.0         Urban           Y  \n",
              "6             1.0         Urban           Y  \n",
              "7             0.0     Semiurban           N  \n",
              "8             1.0         Urban           Y  \n",
              "9             1.0     Semiurban           N  "
            ]
          },
          "execution_count": 12,
          "metadata": {},
          "output_type": "execute_result"
        }
      ],
      "source": [
        "# Look up for few top rows on the data\n",
        "\n",
        "df_train.head(10)"
      ]
    },
    {
      "cell_type": "markdown",
      "metadata": {
        "id": "25tGh7c5vWIR"
      },
      "source": [
        "## Let's Explore The Data..."
      ]
    },
    {
      "cell_type": "code",
      "execution_count": null,
      "metadata": {
        "id": "otBReFNKvWIR",
        "outputId": "e25a46a1-1161-47e2-a41d-a826dac1ec4e"
      },
      "outputs": [
        {
          "name": "stdout",
          "output_type": "stream",
          "text": [
            "<class 'pandas.core.frame.DataFrame'>\n",
            "RangeIndex: 614 entries, 0 to 613\n",
            "Data columns (total 13 columns):\n",
            " #   Column             Non-Null Count  Dtype  \n",
            "---  ------             --------------  -----  \n",
            " 0   Loan_ID            614 non-null    object \n",
            " 1   Gender             601 non-null    object \n",
            " 2   Married            611 non-null    object \n",
            " 3   Dependents         599 non-null    object \n",
            " 4   Education          614 non-null    object \n",
            " 5   Self_Employed      582 non-null    object \n",
            " 6   ApplicantIncome    614 non-null    int64  \n",
            " 7   CoapplicantIncome  614 non-null    float64\n",
            " 8   LoanAmount         592 non-null    float64\n",
            " 9   Loan_Amount_Term   600 non-null    float64\n",
            " 10  Credit_History     564 non-null    float64\n",
            " 11  Property_Area      614 non-null    object \n",
            " 12  Loan_Status        614 non-null    object \n",
            "dtypes: float64(4), int64(1), object(8)\n",
            "memory usage: 62.5+ KB\n"
          ]
        }
      ],
      "source": [
        "df_train.info()"
      ]
    },
    {
      "cell_type": "markdown",
      "metadata": {
        "id": "hdF_kU8BvWIR"
      },
      "source": [
        "## Data Cleaning:"
      ]
    },
    {
      "cell_type": "markdown",
      "metadata": {
        "id": "eR3Op_vivWIR"
      },
      "source": [
        "## Check for missing values:"
      ]
    },
    {
      "cell_type": "code",
      "execution_count": null,
      "metadata": {
        "id": "7UYQ_UqNvWIR",
        "outputId": "c63779e0-fd33-45eb-f32c-57bdecb921dd"
      },
      "outputs": [
        {
          "data": {
            "text/plain": [
              "Loan_ID               0\n",
              "Gender               13\n",
              "Married               3\n",
              "Dependents           15\n",
              "Education             0\n",
              "Self_Employed        32\n",
              "ApplicantIncome       0\n",
              "CoapplicantIncome     0\n",
              "LoanAmount           22\n",
              "Loan_Amount_Term     14\n",
              "Credit_History       50\n",
              "Property_Area         0\n",
              "Loan_Status           0\n",
              "dtype: int64"
            ]
          },
          "execution_count": 14,
          "metadata": {},
          "output_type": "execute_result"
        }
      ],
      "source": [
        "df_train.isnull().sum()"
      ]
    },
    {
      "cell_type": "code",
      "execution_count": null,
      "metadata": {
        "id": "4o7Am3YSvWIR",
        "outputId": "58289ffc-651d-4d98-a702-b907f9262e71"
      },
      "outputs": [
        {
          "name": "stdout",
          "output_type": "stream",
          "text": [
            "Number of attributes having missing values 7\n"
          ]
        },
        {
          "data": {
            "image/png": "[encoded data removed]",
            "text/plain": [
              "<Figure size 432x288 with 1 Axes>"
            ]
          },
          "metadata": {
            "needs_background": "light"
          },
          "output_type": "display_data"
        }
      ],
      "source": [
        "missing = df_train.isnull().sum()\n",
        "missing = missing[missing > 0]\n",
        "missing.sort_values(inplace=True)\n",
        "missing.plot.bar()\n",
        "print(\"Number of attributes having missing values \" + str(len(missing)))"
      ]
    },
    {
      "cell_type": "markdown",
      "metadata": {
        "id": "iNwIpk3JvWIR"
      },
      "source": [
        "## Impute missing values:"
      ]
    },
    {
      "cell_type": "markdown",
      "metadata": {
        "id": "96PpWqJqvWIS"
      },
      "source": [
        " - For numerical variables: imputation using mean or median\n",
        " - For categorical variables: imputation using mode"
      ]
    },
    {
      "cell_type": "code",
      "execution_count": null,
      "metadata": {
        "id": "vwuTP1bRvWIS"
      },
      "outputs": [],
      "source": [
        "df_train['Gender'] = df_train['Gender'].fillna(\n",
        "df_train['Gender'].dropna().mode().values[0] )\n",
        "df_train['Married'] = df_train['Married'].fillna(\n",
        "df_train['Married'].dropna().mode().values[0] )\n",
        "df_train['Dependents'] = df_train['Dependents'].fillna(\n",
        "df_train['Dependents'].dropna().mode().values[0] )\n",
        "df_train['Self_Employed'] = df_train['Self_Employed'].fillna(\n",
        "df_train['Self_Employed'].dropna().mode().values[0] )\n",
        "df_train['LoanAmount'] = df_train['LoanAmount'].fillna(\n",
        "df_train['LoanAmount'].dropna().median() )\n",
        "df_train['Loan_Amount_Term'] = df_train['Loan_Amount_Term'].fillna(\n",
        "df_train['Loan_Amount_Term'].dropna().mode().values[0] )\n",
        "df_train['Credit_History'] = df_train['Credit_History'].fillna(\n",
        "df_train['Credit_History'].dropna().mode().values[0] )"
      ]
    },
    {
      "cell_type": "code",
      "execution_count": null,
      "metadata": {
        "id": "ySXcPFV0vWIS",
        "outputId": "95974515-0c3c-4b65-a157-5fe6ff2e93dd"
      },
      "outputs": [
        {
          "data": {
            "text/plain": [
              "Loan_ID              0\n",
              "Gender               0\n",
              "Married              0\n",
              "Dependents           0\n",
              "Education            0\n",
              "Self_Employed        0\n",
              "ApplicantIncome      0\n",
              "CoapplicantIncome    0\n",
              "LoanAmount           0\n",
              "Loan_Amount_Term     0\n",
              "Credit_History       0\n",
              "Property_Area        0\n",
              "Loan_Status          0\n",
              "dtype: int64"
            ]
          },
          "execution_count": 17,
          "metadata": {},
          "output_type": "execute_result"
        }
      ],
      "source": [
        "df_train.isnull().sum()"
      ]
    },
    {
      "cell_type": "markdown",
      "metadata": {
        "id": "hc7hH5FbvWIS"
      },
      "source": [
        "#### Checking the numerical columns..."
      ]
    },
    {
      "cell_type": "code",
      "execution_count": null,
      "metadata": {
        "id": "g7idHvBCvWIS",
        "outputId": "4a895c3f-a30b-4a71-e62a-dde86de002ec"
      },
      "outputs": [
        {
          "data": {
            "text/html": [
              "<div>\n",
              "<style scoped>\n",
              "    .dataframe tbody tr th:only-of-type {\n",
              "        vertical-align: middle;\n",
              "    }\n",
              "\n",
              "    .dataframe tbody tr th {\n",
              "        vertical-align: top;\n",
              "    }\n",
              "\n",
              "    .dataframe thead th {\n",
              "        text-align: right;\n",
              "    }\n",
              "</style>\n",
              "<table border=\"1\" class=\"dataframe\">\n",
              "  <thead>\n",
              "    <tr style=\"text-align: right;\">\n",
              "      <th></th>\n",
              "      <th>ApplicantIncome</th>\n",
              "      <th>CoapplicantIncome</th>\n",
              "      <th>LoanAmount</th>\n",
              "      <th>Loan_Amount_Term</th>\n",
              "      <th>Credit_History</th>\n",
              "    </tr>\n",
              "  </thead>\n",
              "  <tbody>\n",
              "    <tr>\n",
              "      <th>count</th>\n",
              "      <td>614.000000</td>\n",
              "      <td>614.000000</td>\n",
              "      <td>614.000000</td>\n",
              "      <td>614.000000</td>\n",
              "      <td>614.000000</td>\n",
              "    </tr>\n",
              "    <tr>\n",
              "      <th>mean</th>\n",
              "      <td>5403.459283</td>\n",
              "      <td>1621.245798</td>\n",
              "      <td>145.752443</td>\n",
              "      <td>342.410423</td>\n",
              "      <td>0.855049</td>\n",
              "    </tr>\n",
              "    <tr>\n",
              "      <th>std</th>\n",
              "      <td>6109.041673</td>\n",
              "      <td>2926.248369</td>\n",
              "      <td>84.107233</td>\n",
              "      <td>64.428629</td>\n",
              "      <td>0.352339</td>\n",
              "    </tr>\n",
              "    <tr>\n",
              "      <th>min</th>\n",
              "      <td>150.000000</td>\n",
              "      <td>0.000000</td>\n",
              "      <td>9.000000</td>\n",
              "      <td>12.000000</td>\n",
              "      <td>0.000000</td>\n",
              "    </tr>\n",
              "    <tr>\n",
              "      <th>25%</th>\n",
              "      <td>2877.500000</td>\n",
              "      <td>0.000000</td>\n",
              "      <td>100.250000</td>\n",
              "      <td>360.000000</td>\n",
              "      <td>1.000000</td>\n",
              "    </tr>\n",
              "    <tr>\n",
              "      <th>50%</th>\n",
              "      <td>3812.500000</td>\n",
              "      <td>1188.500000</td>\n",
              "      <td>128.000000</td>\n",
              "      <td>360.000000</td>\n",
              "      <td>1.000000</td>\n",
              "    </tr>\n",
              "    <tr>\n",
              "      <th>75%</th>\n",
              "      <td>5795.000000</td>\n",
              "      <td>2297.250000</td>\n",
              "      <td>164.750000</td>\n",
              "      <td>360.000000</td>\n",
              "      <td>1.000000</td>\n",
              "    </tr>\n",
              "    <tr>\n",
              "      <th>max</th>\n",
              "      <td>81000.000000</td>\n",
              "      <td>41667.000000</td>\n",
              "      <td>700.000000</td>\n",
              "      <td>480.000000</td>\n",
              "      <td>1.000000</td>\n",
              "    </tr>\n",
              "  </tbody>\n",
              "</table>\n",
              "</div>"
            ],
            "text/plain": [
              "       ApplicantIncome  CoapplicantIncome  LoanAmount  Loan_Amount_Term  \\\n",
              "count       614.000000         614.000000  614.000000        614.000000   \n",
              "mean       5403.459283        1621.245798  145.752443        342.410423   \n",
              "std        6109.041673        2926.248369   84.107233         64.428629   \n",
              "min         150.000000           0.000000    9.000000         12.000000   \n",
              "25%        2877.500000           0.000000  100.250000        360.000000   \n",
              "50%        3812.500000        1188.500000  128.000000        360.000000   \n",
              "75%        5795.000000        2297.250000  164.750000        360.000000   \n",
              "max       81000.000000       41667.000000  700.000000        480.000000   \n",
              "\n",
              "       Credit_History  \n",
              "count      614.000000  \n",
              "mean         0.855049  \n",
              "std          0.352339  \n",
              "min          0.000000  \n",
              "25%          1.000000  \n",
              "50%          1.000000  \n",
              "75%          1.000000  \n",
              "max          1.000000  "
            ]
          },
          "execution_count": 18,
          "metadata": {},
          "output_type": "execute_result"
        }
      ],
      "source": [
        "# to view some basic statistical details like percentile, mean, std etc. of a data frame of numeric values\n",
        "\n",
        "df_train.describe()"
      ]
    },
    {
      "cell_type": "markdown",
      "metadata": {
        "id": "aCuKnA_avWIS"
      },
      "source": [
        "\n",
        "We also find that around 84% of applicants have a credit history.\n",
        "Because the Credit History variable has a mean of 0.85 and either (1 for having a credit history or 0 for not)"
      ]
    },
    {
      "cell_type": "markdown",
      "metadata": {
        "id": "sJYJ_s2evWIS"
      },
      "source": [
        "## Check for outliers:"
      ]
    },
    {
      "cell_type": "markdown",
      "metadata": {
        "id": "DWNG4i5UvWIS"
      },
      "source": [
        "#### Let's study the distribution of the numerical variables mainly the Applicant income and the loan amount."
      ]
    },
    {
      "cell_type": "code",
      "execution_count": null,
      "metadata": {
        "id": "NpA9HP27vWIS",
        "outputId": "25c38427-1658-4a20-f18f-7927f8741746"
      },
      "outputs": [
        {
          "data": {
            "text/plain": [
              "<AxesSubplot:xlabel='ApplicantIncome'>"
            ]
          },
          "execution_count": 19,
          "metadata": {},
          "output_type": "execute_result"
        },
        {
          "data": {
            "image/png": "[encoded data removed]",
            "text/plain": [
              "<Figure size 432x288 with 1 Axes>"
            ]
          },
          "metadata": {
            "needs_background": "light"
          },
          "output_type": "display_data"
        }
      ],
      "source": [
        "sns.distplot(df_train.ApplicantIncome,kde=False)"
      ]
    },
    {
      "cell_type": "markdown",
      "metadata": {
        "id": "YviMUg-HvWIS"
      },
      "source": [
        "### The data is skewed over here and we can notice there are outliers too..."
      ]
    },
    {
      "cell_type": "markdown",
      "metadata": {
        "id": "5oI71Dx5vWIT"
      },
      "source": [
        "#### We can remove the outliers but there can be data loss. Instead, we can log transform them because when our original\n",
        "#### continuous data do not follow the bell curve, we can log transform this data to make it as “normal” as possible\n",
        "#### so that the statistical analysis results from this data become more valid"
      ]
    },
    {
      "cell_type": "markdown",
      "metadata": {
        "id": "Fyziq49bvWIT"
      },
      "source": [
        "Also, there can be cases when applicant may have a low income but CoappliantIncome can have strong income\n",
        "so we can have a combined Income column as well"
      ]
    },
    {
      "cell_type": "code",
      "execution_count": null,
      "metadata": {
        "id": "RZYufVZ2vWIT"
      },
      "outputs": [],
      "source": [
        "df_train['LoanAmount_log'] =np.log(df_train['LoanAmount'])\n",
        "df_train['TotalIncome'] = df_train['ApplicantIncome'] + df_train['CoapplicantIncome']\n",
        "df_train['TotalIncome_log']=np.log(df_train['TotalIncome'])"
      ]
    },
    {
      "cell_type": "code",
      "execution_count": null,
      "metadata": {
        "id": "8rgcBOsIvWIT",
        "outputId": "ea3d05f4-2046-4cf2-8415-534877532edf"
      },
      "outputs": [
        {
          "data": {
            "text/plain": [
              "<AxesSubplot:xlabel='LoanAmount_log'>"
            ]
          },
          "execution_count": 21,
          "metadata": {},
          "output_type": "execute_result"
        },
        {
          "data": {
            "image/png": "[encoded data removed]",
            "text/plain": [
              "<Figure size 432x288 with 1 Axes>"
            ]
          },
          "metadata": {
            "needs_background": "light"
          },
          "output_type": "display_data"
        }
      ],
      "source": [
        "sns.distplot(df_train.LoanAmount_log,kde=False)"
      ]
    },
    {
      "cell_type": "markdown",
      "metadata": {
        "id": "YRaB6HG8vWIT"
      },
      "source": [
        "### And, that's a normal distribution..."
      ]
    },
    {
      "cell_type": "code",
      "execution_count": null,
      "metadata": {
        "id": "h-EhG9SxvWIT",
        "outputId": "7d925d8d-1f28-41bf-a6a7-6bad9a5d87af"
      },
      "outputs": [
        {
          "data": {
            "text/plain": [
              "<AxesSubplot:xlabel='TotalIncome_log'>"
            ]
          },
          "execution_count": 22,
          "metadata": {},
          "output_type": "execute_result"
        },
        {
          "data": {
            "image/png": "[encoded data removed]",
            "text/plain": [
              "<Figure size 432x288 with 1 Axes>"
            ]
          },
          "metadata": {
            "needs_background": "light"
          },
          "output_type": "display_data"
        }
      ],
      "source": [
        "# similarly we will do for Total_Income as well\n",
        "\n",
        "sns.distplot(df_train.TotalIncome_log,kde=False)"
      ]
    },
    {
      "cell_type": "markdown",
      "metadata": {
        "id": "ZgaSW98dvWIT"
      },
      "source": [
        "### Let's explore the data more..."
      ]
    },
    {
      "cell_type": "code",
      "execution_count": null,
      "metadata": {
        "id": "kFyLciVRvWIT",
        "outputId": "91439428-2f5e-4dfd-a589-7477617a820d"
      },
      "outputs": [
        {
          "data": {
            "text/plain": [
              "Y    422\n",
              "N    192\n",
              "Name: Loan_Status, dtype: int64"
            ]
          },
          "execution_count": 23,
          "metadata": {},
          "output_type": "execute_result"
        }
      ],
      "source": [
        "df_train['Loan_Status'].value_counts()"
      ]
    },
    {
      "cell_type": "code",
      "execution_count": null,
      "metadata": {
        "id": "eGiwN-cLvWIU",
        "outputId": "4333b290-fd79-44f7-d3c0-5a4e10e32d89"
      },
      "outputs": [
        {
          "data": {
            "text/plain": [
              "Credit_History\n",
              "0.0    0.078652\n",
              "1.0    0.790476\n",
              "Name: Loan_Status, dtype: float64"
            ]
          },
          "execution_count": 24,
          "metadata": {},
          "output_type": "execute_result"
        }
      ],
      "source": [
        "#turn loan status into binary\n",
        "modified=df_train\n",
        "modified['Loan_Status']=df_train['Loan_Status'].apply(lambda x: 0 if x==\"N\" else 1 )\n",
        "#calculate the mean\n",
        "modified.groupby('Credit_History').mean()['Loan_Status']"
      ]
    },
    {
      "cell_type": "code",
      "execution_count": null,
      "metadata": {
        "id": "1ywV8OHavWIU",
        "outputId": "d8b9567f-7d3c-4e4e-8bb8-be572b41ea5e"
      },
      "outputs": [
        {
          "data": {
            "text/plain": [
              "<AxesSubplot:xlabel='Credit_History'>"
            ]
          },
          "execution_count": 25,
          "metadata": {},
          "output_type": "execute_result"
        },
        {
          "data": {
            "image/png": "[encoded data removed]",
            "text/plain": [
              "<Figure size 432x288 with 1 Axes>"
            ]
          },
          "metadata": {
            "needs_background": "light"
          },
          "output_type": "display_data"
        }
      ],
      "source": [
        "cred = pd.crosstab(df_train['Credit_History'], df_train['Loan_Status'])\n",
        "cred.plot(kind='bar', stacked=True, color=['blue','red'], grid=False)"
      ]
    },
    {
      "cell_type": "code",
      "execution_count": null,
      "metadata": {
        "id": "HAyLeSQWvWIU",
        "outputId": "e22567ea-409d-496f-a35a-4820e9391d53"
      },
      "outputs": [
        {
          "data": {
            "text/html": [
              "<div>\n",
              "<style scoped>\n",
              "    .dataframe tbody tr th:only-of-type {\n",
              "        vertical-align: middle;\n",
              "    }\n",
              "\n",
              "    .dataframe tbody tr th {\n",
              "        vertical-align: top;\n",
              "    }\n",
              "\n",
              "    .dataframe thead th {\n",
              "        text-align: right;\n",
              "    }\n",
              "</style>\n",
              "<table border=\"1\" class=\"dataframe\">\n",
              "  <thead>\n",
              "    <tr style=\"text-align: right;\">\n",
              "      <th>Loan_Status</th>\n",
              "      <th>0</th>\n",
              "      <th>1</th>\n",
              "    </tr>\n",
              "    <tr>\n",
              "      <th>Credit_History</th>\n",
              "      <th></th>\n",
              "      <th></th>\n",
              "    </tr>\n",
              "  </thead>\n",
              "  <tbody>\n",
              "    <tr>\n",
              "      <th>0.0</th>\n",
              "      <td>82</td>\n",
              "      <td>7</td>\n",
              "    </tr>\n",
              "    <tr>\n",
              "      <th>1.0</th>\n",
              "      <td>110</td>\n",
              "      <td>415</td>\n",
              "    </tr>\n",
              "  </tbody>\n",
              "</table>\n",
              "</div>"
            ],
            "text/plain": [
              "Loan_Status       0    1\n",
              "Credit_History          \n",
              "0.0              82    7\n",
              "1.0             110  415"
            ]
          },
          "execution_count": 26,
          "metadata": {},
          "output_type": "execute_result"
        }
      ],
      "source": [
        "cred"
      ]
    },
    {
      "cell_type": "markdown",
      "metadata": {
        "id": "YlQsCfynvWIU"
      },
      "source": [
        "#### We can see that applicants with credit history \"Y\" have the capability to repay the loan.\n",
        "#### So, this feature can be said as one of the most significant one."
      ]
    },
    {
      "cell_type": "code",
      "execution_count": null,
      "metadata": {
        "scrolled": true,
        "id": "qQqLkYfJvWIU",
        "outputId": "a83b71ed-9d70-4a18-b567-a6acea746609"
      },
      "outputs": [
        {
          "data": {
            "text/plain": [
              "<AxesSubplot:xlabel='Education', ylabel='ApplicantIncome'>"
            ]
          },
          "execution_count": 27,
          "metadata": {},
          "output_type": "execute_result"
        },
        {
          "data": {
            "image/png": "[encoded data removed]",
            "text/plain": [
              "<Figure size 432x288 with 1 Axes>"
            ]
          },
          "metadata": {
            "needs_background": "light"
          },
          "output_type": "display_data"
        }
      ],
      "source": [
        "sns.boxplot(x = 'Education', y = 'ApplicantIncome', data = df_train)"
      ]
    },
    {
      "cell_type": "markdown",
      "metadata": {
        "id": "4yWwnOsovWIV"
      },
      "source": [
        "#####  So, people with education have higher income and are likely to pay off the loans more."
      ]
    },
    {
      "cell_type": "markdown",
      "metadata": {
        "id": "_ao6YhpjvWIV"
      },
      "source": [
        "### Univariate Analysis:"
      ]
    },
    {
      "cell_type": "code",
      "execution_count": null,
      "metadata": {
        "id": "vzakhh_ovWIV",
        "outputId": "45954e83-8c2d-46f7-8bb6-e7a1fea57dcb"
      },
      "outputs": [
        {
          "data": {
            "text/plain": [
              "<AxesSubplot:xlabel='Education', ylabel='count'>"
            ]
          },
          "execution_count": 28,
          "metadata": {},
          "output_type": "execute_result"
        },
        {
          "data": {
            "image/png": "[encoded data removed]",
            "text/plain": [
              "<Figure size 432x288 with 1 Axes>"
            ]
          },
          "metadata": {
            "needs_background": "light"
          },
          "output_type": "display_data"
        }
      ],
      "source": [
        "sns.countplot(x ='Education', data = df_train, palette = \"Set2\")"
      ]
    },
    {
      "cell_type": "markdown",
      "metadata": {
        "id": "-hsXL5B7vWIV"
      },
      "source": [
        "### Now, let's visualize each variable separately. Different types of variables are Categorical, ordinal, and numerical.\n",
        " - Categorical features: Gender, Married, Self_Employed, Credit_History, Loan_Status\n",
        " - Ordinal features: Variables in categorical features having some order involved like Dependents, Education, Property_Area\n",
        " - Numerical features: ApplicantIncome, Co-applicantIncome, LoanAmount, Loan_Amount_Term"
      ]
    },
    {
      "cell_type": "markdown",
      "metadata": {
        "id": "t9GsqrDSvWIV"
      },
      "source": [
        "### Categorical:"
      ]
    },
    {
      "cell_type": "code",
      "execution_count": null,
      "metadata": {
        "id": "jwJyVHNsvWIV",
        "outputId": "e0519f00-9138-47b5-f247-b705eb825a48"
      },
      "outputs": [
        {
          "data": {
            "image/png": "[encoded data removed]",
            "text/plain": [
              "<Figure size 1440x720 with 1 Axes>"
            ]
          },
          "metadata": {
            "needs_background": "light"
          },
          "output_type": "display_data"
        },
        {
          "data": {
            "image/png": "[encoded data removed]",
            "text/plain": [
              "<Figure size 432x288 with 1 Axes>"
            ]
          },
          "metadata": {
            "needs_background": "light"
          },
          "output_type": "display_data"
        },
        {
          "data": {
            "image/png": "[encoded data removed]",
            "text/plain": [
              "<Figure size 432x288 with 1 Axes>"
            ]
          },
          "metadata": {
            "needs_background": "light"
          },
          "output_type": "display_data"
        },
        {
          "data": {
            "image/png": "[encoded data removed]",
            "text/plain": [
              "<Figure size 432x288 with 1 Axes>"
            ]
          },
          "metadata": {
            "needs_background": "light"
          },
          "output_type": "display_data"
        }
      ],
      "source": [
        "df_train['Gender'].value_counts(normalize=True).plot.bar(figsize=(20,10), title= 'Gender', color= 'blue')\n",
        "plt.show()\n",
        "\n",
        "df_train['Married'].value_counts(normalize=True).plot.bar(title= 'Married', color = 'red')\n",
        "plt.show()\n",
        "\n",
        "df_train['Self_Employed'].value_counts(normalize=True).plot.bar(title= 'Self_Employed' , color ='blue')\n",
        "plt.show()\n",
        "\n",
        "df_train['Credit_History'].value_counts(normalize=True).plot.bar(title= 'Credit_History', color = 'red')\n",
        "plt.show()"
      ]
    },
    {
      "cell_type": "markdown",
      "metadata": {
        "id": "GUs6O5D8vWIV"
      },
      "source": [
        "### Insights-\n",
        " - 80% of applicants are male.\n",
        " - Around 65% of the applicants in the dataset are married.\n",
        " - Around 15% of applicants in the dataset are self-employed.\n",
        " - Around 85% of applicants have repaid their loans."
      ]
    },
    {
      "cell_type": "markdown",
      "metadata": {
        "id": "5YqK6-gXvWIV"
      },
      "source": [
        "### Let's check for Dependents feature"
      ]
    },
    {
      "cell_type": "code",
      "execution_count": null,
      "metadata": {
        "id": "UWlxbltmvWIV",
        "outputId": "15190b8a-4a98-4820-a525-a51ca8c12a79"
      },
      "outputs": [
        {
          "data": {
            "image/png": "[encoded data removed]",
            "text/plain": [
              "<Figure size 1728x432 with 1 Axes>"
            ]
          },
          "metadata": {
            "needs_background": "light"
          },
          "output_type": "display_data"
        }
      ],
      "source": [
        "df_train['Dependents'].value_counts(normalize=True).plot.bar(figsize=(24,6), title='Dependents',color = 'blue')\n",
        "plt.show()"
      ]
    },
    {
      "cell_type": "markdown",
      "metadata": {
        "id": "ju6eXiM6vWIV"
      },
      "source": [
        "### - Most of the applicants have 0 dependents"
      ]
    },
    {
      "cell_type": "markdown",
      "metadata": {
        "id": "MRWxKUANvWIV"
      },
      "source": [
        "### Bi-variate Analysis"
      ]
    },
    {
      "cell_type": "markdown",
      "metadata": {
        "id": "7S7BZzggvWIV"
      },
      "source": [
        " - Here our target variable is Loan Approval or 'Loan_Status'"
      ]
    },
    {
      "cell_type": "markdown",
      "metadata": {
        "id": "M3U39dmPvWIW"
      },
      "source": [
        "#### Now Let's form our Hypotheses and test them out-\n",
        "\n",
        " - People who have credit history 1 can repay the loans\n"
      ]
    },
    {
      "cell_type": "code",
      "execution_count": null,
      "metadata": {
        "id": "ec5OS4O7vWIW",
        "outputId": "bec5a872-1bc0-4288-de52-c3c1c4962030"
      },
      "outputs": [
        {
          "data": {
            "text/plain": [
              "<AxesSubplot:xlabel='Credit_History', ylabel='Loan_Status'>"
            ]
          },
          "execution_count": 31,
          "metadata": {},
          "output_type": "execute_result"
        },
        {
          "data": {
            "image/png": "[encoded data removed]",
            "text/plain": [
              "<Figure size 432x288 with 1 Axes>"
            ]
          },
          "metadata": {
            "needs_background": "light"
          },
          "output_type": "display_data"
        }
      ],
      "source": [
        "sns.barplot(x=\"Credit_History\", y=\"Loan_Status\", hue=\"Gender\", data=df_train)"
      ]
    },
    {
      "cell_type": "markdown",
      "metadata": {
        "id": "DJS6YfISvWIW"
      },
      "source": [
        "#### Insights- Males who have credit history as 1 are likely to get approvals the most"
      ]
    },
    {
      "cell_type": "markdown",
      "metadata": {
        "id": "TwO4potEvWIW"
      },
      "source": [
        " - Applicants who have more income will have higher chances to pay off the loan"
      ]
    },
    {
      "cell_type": "code",
      "execution_count": null,
      "metadata": {
        "id": "w6na_U71vWIW"
      },
      "outputs": [],
      "source": [
        "#Bin Applicant Income as it is numerical and bar plot won't show us any insight for the same\n",
        "bins=[0,2500,4000,6000,81000]\n",
        "group=['Low','Average','High','Very high']\n",
        "df_train['Income_bin']=pd.cut(df_train['ApplicantIncome'],bins,labels=group)\n",
        "\n"
      ]
    },
    {
      "cell_type": "code",
      "execution_count": null,
      "metadata": {
        "id": "k2c38MP6vWIW",
        "outputId": "5f812fb0-eb79-440d-f84a-fb6ebca8cf33"
      },
      "outputs": [
        {
          "data": {
            "text/html": [
              "<div>\n",
              "<style scoped>\n",
              "    .dataframe tbody tr th:only-of-type {\n",
              "        vertical-align: middle;\n",
              "    }\n",
              "\n",
              "    .dataframe tbody tr th {\n",
              "        vertical-align: top;\n",
              "    }\n",
              "\n",
              "    .dataframe thead th {\n",
              "        text-align: right;\n",
              "    }\n",
              "</style>\n",
              "<table border=\"1\" class=\"dataframe\">\n",
              "  <thead>\n",
              "    <tr style=\"text-align: right;\">\n",
              "      <th>Loan_Status</th>\n",
              "      <th>0</th>\n",
              "      <th>1</th>\n",
              "    </tr>\n",
              "    <tr>\n",
              "      <th>Income_bin</th>\n",
              "      <th></th>\n",
              "      <th></th>\n",
              "    </tr>\n",
              "  </thead>\n",
              "  <tbody>\n",
              "    <tr>\n",
              "      <th>Low</th>\n",
              "      <td>34</td>\n",
              "      <td>74</td>\n",
              "    </tr>\n",
              "    <tr>\n",
              "      <th>Average</th>\n",
              "      <td>67</td>\n",
              "      <td>159</td>\n",
              "    </tr>\n",
              "    <tr>\n",
              "      <th>High</th>\n",
              "      <td>45</td>\n",
              "      <td>98</td>\n",
              "    </tr>\n",
              "    <tr>\n",
              "      <th>Very high</th>\n",
              "      <td>46</td>\n",
              "      <td>91</td>\n",
              "    </tr>\n",
              "  </tbody>\n",
              "</table>\n",
              "</div>"
            ],
            "text/plain": [
              "Loan_Status   0    1\n",
              "Income_bin          \n",
              "Low          34   74\n",
              "Average      67  159\n",
              "High         45   98\n",
              "Very high    46   91"
            ]
          },
          "execution_count": 33,
          "metadata": {},
          "output_type": "execute_result"
        }
      ],
      "source": [
        "# Barplot - Shows approximate values based\n",
        "# on the height of bars.\n",
        "Income_bin=pd.crosstab(df_train['Income_bin'],df_train['Loan_Status'])\n",
        "Income_bin"
      ]
    },
    {
      "cell_type": "code",
      "execution_count": null,
      "metadata": {
        "scrolled": true,
        "id": "IKGi8ZGJvWIW",
        "outputId": "0891a618-9ce7-4193-ecbf-bf082bd58158"
      },
      "outputs": [
        {
          "data": {
            "text/html": [
              "<div>\n",
              "<style scoped>\n",
              "    .dataframe tbody tr th:only-of-type {\n",
              "        vertical-align: middle;\n",
              "    }\n",
              "\n",
              "    .dataframe tbody tr th {\n",
              "        vertical-align: top;\n",
              "    }\n",
              "\n",
              "    .dataframe thead th {\n",
              "        text-align: right;\n",
              "    }\n",
              "</style>\n",
              "<table border=\"1\" class=\"dataframe\">\n",
              "  <thead>\n",
              "    <tr style=\"text-align: right;\">\n",
              "      <th>Loan_Status</th>\n",
              "      <th>0</th>\n",
              "      <th>1</th>\n",
              "    </tr>\n",
              "    <tr>\n",
              "      <th>Income_bin</th>\n",
              "      <th></th>\n",
              "      <th></th>\n",
              "    </tr>\n",
              "  </thead>\n",
              "  <tbody>\n",
              "    <tr>\n",
              "      <th>Low</th>\n",
              "      <td>0.314815</td>\n",
              "      <td>0.685185</td>\n",
              "    </tr>\n",
              "    <tr>\n",
              "      <th>Average</th>\n",
              "      <td>0.296460</td>\n",
              "      <td>0.703540</td>\n",
              "    </tr>\n",
              "    <tr>\n",
              "      <th>High</th>\n",
              "      <td>0.314685</td>\n",
              "      <td>0.685315</td>\n",
              "    </tr>\n",
              "    <tr>\n",
              "      <th>Very high</th>\n",
              "      <td>0.335766</td>\n",
              "      <td>0.664234</td>\n",
              "    </tr>\n",
              "  </tbody>\n",
              "</table>\n",
              "</div>"
            ],
            "text/plain": [
              "Loan_Status         0         1\n",
              "Income_bin                     \n",
              "Low          0.314815  0.685185\n",
              "Average      0.296460  0.703540\n",
              "High         0.314685  0.685315\n",
              "Very high    0.335766  0.664234"
            ]
          },
          "execution_count": 34,
          "metadata": {},
          "output_type": "execute_result"
        }
      ],
      "source": [
        "Income_bin.div(Income_bin.sum(1).astype(float), axis=0)"
      ]
    },
    {
      "cell_type": "code",
      "execution_count": null,
      "metadata": {
        "id": "BTVgxiVCvWIW",
        "outputId": "88c43521-781a-47cb-9fb0-78e56ea004ca"
      },
      "outputs": [
        {
          "data": {
            "image/png": "[encoded data removed]",
            "text/plain": [
              "<Figure size 432x288 with 1 Axes>"
            ]
          },
          "metadata": {
            "needs_background": "light"
          },
          "output_type": "display_data"
        }
      ],
      "source": [
        "Income_bin.div(Income_bin.sum(1).astype(float), axis=0).plot(kind=\"bar\",stacked=True,color=['blue','red'])\n",
        "plt.xlabel('ApplicantIncome')\n",
        "P=plt.ylabel('Percentage')"
      ]
    },
    {
      "cell_type": "markdown",
      "metadata": {
        "id": "w3GR0clQvWIW"
      },
      "source": [
        "#### The applicant's income has almost no effect on the chances of loan acceptance, which contradicts our prediction that if the applicant's income is large, the chances of loan approval are similarly high."
      ]
    },
    {
      "cell_type": "markdown",
      "metadata": {
        "id": "eWf7b30FvWIW"
      },
      "source": [
        "##### The same way we can check with other variables like Property area or Co-applicant Income or Loan Amount and test out the hypothesis\n",
        "\n"
      ]
    },
    {
      "cell_type": "markdown",
      "metadata": {
        "id": "0N477ll8vWIW"
      },
      "source": [
        "#### Now, Let's visualise the correlation between out numeric variables"
      ]
    },
    {
      "cell_type": "code",
      "execution_count": null,
      "metadata": {
        "id": "iNYY6BR9vWIX",
        "outputId": "309828f7-f824-4daf-ffe3-1b958a7f2585"
      },
      "outputs": [
        {
          "data": {
            "text/plain": [
              "<AxesSubplot:>"
            ]
          },
          "execution_count": 36,
          "metadata": {},
          "output_type": "execute_result"
        },
        {
          "data": {
            "image/png": "[encoded data removed]",
            "text/plain": [
              "<Figure size 648x432 with 2 Axes>"
            ]
          },
          "metadata": {
            "needs_background": "light"
          },
          "output_type": "display_data"
        }
      ],
      "source": [
        "matrix = df_train.corr()\n",
        "f, ax = plt.subplots(figsize=(9,6))\n",
        "sns.heatmap(matrix,square=True,cmap=\"BuPu\", annot = True)"
      ]
    },
    {
      "cell_type": "markdown",
      "metadata": {
        "id": "Au5JXeS9vWIX"
      },
      "source": [
        "#### Insights -\n",
        " - ApplicantIncome — LoanAmount\n",
        " - Credit_History — Loan_Status\n",
        " - LoanAmount-TotalIncome  are strongly co-related."
      ]
    },
    {
      "cell_type": "code",
      "execution_count": null,
      "metadata": {
        "id": "W5r0ViDIvWIX"
      },
      "outputs": [],
      "source": []
    },
    {
      "cell_type": "code",
      "execution_count": null,
      "metadata": {
        "id": "bq4vRTZ2vWIX"
      },
      "outputs": [],
      "source": []
    },
    {
      "cell_type": "code",
      "execution_count": null,
      "metadata": {
        "id": "In0F4AKrvWIX"
      },
      "outputs": [],
      "source": []
    },
    {
      "cell_type": "code",
      "execution_count": null,
      "metadata": {
        "id": "8utGuvQvvWIX"
      },
      "outputs": [],
      "source": []
    },
    {
      "cell_type": "code",
      "execution_count": null,
      "metadata": {
        "id": "JauIGfaivWIX"
      },
      "outputs": [],
      "source": []
    },
    {
      "cell_type": "code",
      "execution_count": null,
      "metadata": {
        "id": "V2w-4m2AvWIX"
      },
      "outputs": [],
      "source": []
    },
    {
      "cell_type": "code",
      "execution_count": null,
      "metadata": {
        "id": "RxhENH6YvWIX"
      },
      "outputs": [],
      "source": []
    },
    {
      "cell_type": "code",
      "execution_count": null,
      "metadata": {
        "id": "OHypeTQcvWIX"
      },
      "outputs": [],
      "source": []
    },
    {
      "cell_type": "code",
      "execution_count": null,
      "metadata": {
        "id": "zIs1Vw8VvWIX"
      },
      "outputs": [],
      "source": []
    },
    {
      "cell_type": "code",
      "execution_count": null,
      "metadata": {
        "id": "x5esipGnvWIX"
      },
      "outputs": [],
      "source": []
    },
    {
      "cell_type": "code",
      "execution_count": null,
      "metadata": {
        "id": "mwP8ERCDvWIX"
      },
      "outputs": [],
      "source": []
    },
    {
      "cell_type": "code",
      "execution_count": null,
      "metadata": {
        "id": "rozXQ-9nvWIX"
      },
      "outputs": [],
      "source": []
    },
    {
      "cell_type": "code",
      "execution_count": null,
      "metadata": {
        "id": "1BM0OsJYvWIX"
      },
      "outputs": [],
      "source": []
    },
    {
      "cell_type": "code",
      "execution_count": null,
      "metadata": {
        "id": "3k3Fe4KBvWIY"
      },
      "outputs": [],
      "source": []
    },
    {
      "cell_type": "code",
      "execution_count": null,
      "metadata": {
        "id": "Z9dwsVtcvWIY"
      },
      "outputs": [],
      "source": []
    },
    {
      "cell_type": "code",
      "execution_count": null,
      "metadata": {
        "id": "a1GX2RbyvWIY"
      },
      "outputs": [],
      "source": []
    },
    {
      "cell_type": "markdown",
      "metadata": {
        "id": "Q00ii3zNvWIY"
      },
      "source": [
        "## Let's start with Modelling now..."
      ]
    },
    {
      "cell_type": "markdown",
      "metadata": {
        "id": "vG-7UP9RvWIY"
      },
      "source": [
        "### We will build 3 models and then compare their results and choose the optimal one\n",
        "### The first one being Logistic Regression\n",
        "### But first Data processing is required..."
      ]
    },
    {
      "cell_type": "markdown",
      "metadata": {
        "id": "948yeggLvWIY"
      },
      "source": [
        "##### First step, is to remove ID feature as it doesn't signfy anything to our model"
      ]
    },
    {
      "cell_type": "code",
      "execution_count": null,
      "metadata": {
        "id": "_hUhOSqPvWIY"
      },
      "outputs": [],
      "source": [
        "train= df_train.drop('Loan_ID',axis=1)\n",
        "test= df_test.drop('Loan_ID',axis=1)"
      ]
    },
    {
      "cell_type": "markdown",
      "metadata": {
        "id": "gWpPsGE9vWIY"
      },
      "source": [
        "##### Second step, is to define our dependent and in-dependent variables"
      ]
    },
    {
      "cell_type": "code",
      "execution_count": null,
      "metadata": {
        "id": "T39qFMrTvWIY"
      },
      "outputs": [],
      "source": [
        "#Independent Variable\n",
        "X = train.drop('Loan_Status',1)\n",
        "#Dependent Variable\n",
        "y = train.Loan_Status"
      ]
    },
    {
      "cell_type": "code",
      "execution_count": null,
      "metadata": {
        "id": "RAoBspJVvWIY",
        "outputId": "833ea5d6-70ce-4ce3-f90a-5a6036aa6e2e"
      },
      "outputs": [
        {
          "data": {
            "text/plain": [
              "Index(['Gender', 'Married', 'Dependents', 'Education', 'Self_Employed',\n",
              "       'ApplicantIncome', 'CoapplicantIncome', 'LoanAmount',\n",
              "       'Loan_Amount_Term', 'Credit_History', 'Property_Area', 'LoanAmount_log',\n",
              "       'TotalIncome', 'TotalIncome_log', 'Income_bin'],\n",
              "      dtype='object')"
            ]
          },
          "execution_count": 39,
          "metadata": {},
          "output_type": "execute_result"
        }
      ],
      "source": [
        "X.columns"
      ]
    },
    {
      "cell_type": "code",
      "execution_count": null,
      "metadata": {
        "id": "PpZzc0iLvWIY"
      },
      "outputs": [],
      "source": [
        "X.drop(columns=['Income_bin','LoanAmount','TotalIncome'],inplace = True)"
      ]
    },
    {
      "cell_type": "code",
      "execution_count": null,
      "metadata": {
        "id": "c11MBMD5vWIY",
        "outputId": "28ab5b74-2893-48c7-8b55-8b6eae70569b"
      },
      "outputs": [
        {
          "data": {
            "text/plain": [
              "Index(['Gender', 'Married', 'Dependents', 'Education', 'Self_Employed',\n",
              "       'ApplicantIncome', 'CoapplicantIncome', 'LoanAmount',\n",
              "       'Loan_Amount_Term', 'Credit_History', 'Property_Area'],\n",
              "      dtype='object')"
            ]
          },
          "execution_count": 41,
          "metadata": {},
          "output_type": "execute_result"
        }
      ],
      "source": [
        "test.columns"
      ]
    },
    {
      "cell_type": "code",
      "execution_count": null,
      "metadata": {
        "id": "igUPECxIvWIY"
      },
      "outputs": [],
      "source": [
        "test['LoanAmount_log'] =np.log(test['LoanAmount'])\n",
        "test['TotalIncome'] = test['ApplicantIncome'] + test['CoapplicantIncome']\n",
        "test['TotalIncome_log']=np.log(test['TotalIncome'])"
      ]
    },
    {
      "cell_type": "code",
      "execution_count": null,
      "metadata": {
        "id": "-F0tXII8vWIZ"
      },
      "outputs": [],
      "source": [
        "test.drop(columns=['LoanAmount','TotalIncome'],inplace = True)"
      ]
    },
    {
      "cell_type": "markdown",
      "metadata": {
        "id": "dlI3DXAsvWIZ"
      },
      "source": [
        "#### Then, we need to convert all categorical columns to numerical ones"
      ]
    },
    {
      "cell_type": "code",
      "execution_count": null,
      "metadata": {
        "id": "sxFqKmyPvWIZ"
      },
      "outputs": [],
      "source": [
        "X = pd.get_dummies(X)\n",
        "train=pd.get_dummies(train)\n",
        "test=pd.get_dummies(test)"
      ]
    },
    {
      "cell_type": "markdown",
      "metadata": {
        "id": "vYermhV_vWIZ"
      },
      "source": [
        "#### Now, we will use train dataset to build our model and test dataset to test our model results\n",
        "#### but we also need to validate the predictions made too, so for that we can split our training data into train and test further"
      ]
    },
    {
      "cell_type": "code",
      "execution_count": null,
      "metadata": {
        "id": "0YuAiQ07vWIZ"
      },
      "outputs": [],
      "source": [
        "from sklearn.model_selection import train_test_split\n",
        "x_train, x_cv, y_train, y_cv = train_test_split(X,y, test_size=0.3)"
      ]
    },
    {
      "cell_type": "markdown",
      "metadata": {
        "id": "YwjMspx9vWIZ"
      },
      "source": [
        "### Time to train our model"
      ]
    },
    {
      "cell_type": "code",
      "execution_count": null,
      "metadata": {
        "id": "nvTwu6zwvWIZ",
        "outputId": "7cdece6a-579c-404b-c90d-32af11aa748b"
      },
      "outputs": [
        {
          "name": "stderr",
          "output_type": "stream",
          "text": [
            "c:\\users\\acer\\appdata\\local\\programs\\python\\python38\\lib\\site-packages\\sklearn\\linear_model\\_logistic.py:762: ConvergenceWarning: lbfgs failed to converge (status=1):\n",
            "STOP: TOTAL NO. of ITERATIONS REACHED LIMIT.\n",
            "\n",
            "Increase the number of iterations (max_iter) or scale the data as shown in:\n",
            "    https://scikit-learn.org/stable/modules/preprocessing.html\n",
            "Please also refer to the documentation for alternative solver options:\n",
            "    https://scikit-learn.org/stable/modules/linear_model.html#logistic-regression\n",
            "  n_iter_i = _check_optimize_result(\n"
          ]
        },
        {
          "data": {
            "text/plain": [
              "LogisticRegression(random_state=1)"
            ]
          },
          "execution_count": 46,
          "metadata": {},
          "output_type": "execute_result"
        }
      ],
      "source": [
        "from sklearn.linear_model import LogisticRegression\n",
        "from sklearn.metrics import accuracy_score\n",
        "model = LogisticRegression(random_state = 1)\n",
        "model.fit(x_train, y_train)\n"
      ]
    },
    {
      "cell_type": "markdown",
      "metadata": {
        "id": "MX-coOXqvWIZ"
      },
      "source": [
        "### Now, let's try to predict on the test set to check how accurate is our model"
      ]
    },
    {
      "cell_type": "code",
      "execution_count": null,
      "metadata": {
        "id": "oHyLyrixvWIZ",
        "outputId": "cc5691fe-af60-4208-eb53-1d1daf66f1fc"
      },
      "outputs": [
        {
          "name": "stdout",
          "output_type": "stream",
          "text": [
            "0.7467813131313\n"
          ]
        }
      ],
      "source": [
        "pred_cv = model.predict(x_cv)\n",
        "accuracy_score(y_cv,pred_cv)"
      ]
    },
    {
      "cell_type": "markdown",
      "metadata": {
        "id": "aHCW9psKvWIZ"
      },
      "source": [
        "#### It's approx 75%"
      ]
    },
    {
      "cell_type": "code",
      "execution_count": null,
      "metadata": {
        "id": "K3uJ5DESvWIZ",
        "outputId": "29e8a5e0-6e73-4b99-8a29-dde9fbfd6708"
      },
      "outputs": [
        {
          "data": {
            "text/plain": [
              "array([[ 29,  27],\n",
              "       [  7, 122]], dtype=int64)"
            ]
          },
          "execution_count": 50,
          "metadata": {},
          "output_type": "execute_result"
        }
      ],
      "source": [
        "from sklearn.metrics import confusion_matrix\n",
        "cnf=confusion_matrix(y_cv, pred_cv)\n",
        "cnf\n",
        "#TP FP\n",
        "#FN TN"
      ]
    },
    {
      "cell_type": "markdown",
      "metadata": {
        "id": "takAgsJrvWIZ"
      },
      "source": [
        "#### Now, to know how our model is going to perform on unseen data we need Validation results.\n",
        "#### Let's try stratified k-folds cross-validation here"
      ]
    },
    {
      "cell_type": "markdown",
      "metadata": {
        "id": "IHEGazOyvWIa"
      },
      "source": [
        "#### What is k-folds validation?\n",
        "\n",
        "- The whole dataset is randomly split into independent k-folds without replacement.\n",
        "- k-1 folds are used for the model training and one fold is used for performance evaluation.\n",
        "- This procedure is repeated k times (iterations) so that we obtain k number of performance estimates (e.g. MSE) for each iteration.\n",
        "- Then we get the mean of k number of performance estimates (e.g. MSE)."
      ]
    },
    {
      "cell_type": "markdown",
      "metadata": {
        "id": "PswvXoF2vWIa"
      },
      "source": [
        "#### And about the word stratified...\n",
        " - Stratified k-fold cross-validation is same as just k-fold cross-validation, But in Stratified k-fold cross-validation, it does stratified sampling instead of random sampling."
      ]
    },
    {
      "cell_type": "code",
      "execution_count": null,
      "metadata": {
        "id": "BDsMdlVPvWIa"
      },
      "outputs": [],
      "source": [
        "from sklearn.model_selection import StratifiedKFold"
      ]
    },
    {
      "cell_type": "markdown",
      "metadata": {
        "id": "ddCdAx1WvWIa"
      },
      "source": [
        "#### Now, let's start with k=5 folds"
      ]
    },
    {
      "cell_type": "code",
      "execution_count": null,
      "metadata": {
        "id": "fO7s_KRKvWIa",
        "outputId": "a0b0f6fc-1250-49b8-c825-e6f2ae1c4bfa"
      },
      "outputs": [
        {
          "data": {
            "text/plain": [
              "ApplicantIncome             0\n",
              "CoapplicantIncome           0\n",
              "Loan_Amount_Term            6\n",
              "Credit_History             29\n",
              "LoanAmount_log              5\n",
              "TotalIncome_log             0\n",
              "Gender_Female               0\n",
              "Gender_Male                 0\n",
              "Married_No                  0\n",
              "Married_Yes                 0\n",
              "Dependents_0                0\n",
              "Dependents_1                0\n",
              "Dependents_2                0\n",
              "Dependents_3+               0\n",
              "Education_Graduate          0\n",
              "Education_Not Graduate      0\n",
              "Self_Employed_No            0\n",
              "Self_Employed_Yes           0\n",
              "Property_Area_Rural         0\n",
              "Property_Area_Semiurban     0\n",
              "Property_Area_Urban         0\n",
              "dtype: int64"
            ]
          },
          "execution_count": 52,
          "metadata": {},
          "output_type": "execute_result"
        }
      ],
      "source": [
        "test.isnull().sum()"
      ]
    },
    {
      "cell_type": "code",
      "execution_count": null,
      "metadata": {
        "id": "j5hKTQoOvWIa"
      },
      "outputs": [],
      "source": [
        "test = test.dropna(axis=0)"
      ]
    },
    {
      "cell_type": "code",
      "execution_count": null,
      "metadata": {
        "id": "w5bAfiYlvWIa",
        "outputId": "0269c177-9ae6-4fec-a89f-ea0543913236"
      },
      "outputs": [
        {
          "name": "stderr",
          "output_type": "stream",
          "text": [
            "c:\\users\\acer\\appdata\\local\\programs\\python\\python38\\lib\\site-packages\\sklearn\\model_selection\\_split.py:293: FutureWarning: Setting a random_state has no effect since shuffle is False. This will raise an error in 0.24. You should leave random_state to its default (None), or set shuffle=True.\n",
            "  warnings.warn(\n",
            "c:\\users\\acer\\appdata\\local\\programs\\python\\python38\\lib\\site-packages\\sklearn\\linear_model\\_logistic.py:762: ConvergenceWarning: lbfgs failed to converge (status=1):\n",
            "STOP: TOTAL NO. of ITERATIONS REACHED LIMIT.\n",
            "\n",
            "Increase the number of iterations (max_iter) or scale the data as shown in:\n",
            "    https://scikit-learn.org/stable/modules/preprocessing.html\n",
            "Please also refer to the documentation for alternative solver options:\n",
            "    https://scikit-learn.org/stable/modules/linear_model.html#logistic-regression\n",
            "  n_iter_i = _check_optimize_result(\n"
          ]
        },
        {
          "name": "stdout",
          "output_type": "stream",
          "text": [
            "\n",
            "1 of kfold 5 \n",
            "accuracy_score 0.8048780487804879\n",
            "\n",
            "2 of kfold 5 \n",
            "accuracy_score 0.7804878048780488\n",
            "\n",
            "3 of kfold 5 \n",
            "accuracy_score 0.7886178861788617\n",
            "\n",
            "4 of kfold 5 \n",
            "accuracy_score 0.8292682926829268\n",
            "\n",
            "5 of kfold 5 \n",
            "accuracy_score 0.8032786885245902\n",
            "\n",
            " Mean Validation Accuracy 0.801306144208983\n"
          ]
        },
        {
          "name": "stderr",
          "output_type": "stream",
          "text": [
            "c:\\users\\acer\\appdata\\local\\programs\\python\\python38\\lib\\site-packages\\sklearn\\linear_model\\_logistic.py:762: ConvergenceWarning: lbfgs failed to converge (status=1):\n",
            "STOP: TOTAL NO. of ITERATIONS REACHED LIMIT.\n",
            "\n",
            "Increase the number of iterations (max_iter) or scale the data as shown in:\n",
            "    https://scikit-learn.org/stable/modules/preprocessing.html\n",
            "Please also refer to the documentation for alternative solver options:\n",
            "    https://scikit-learn.org/stable/modules/linear_model.html#logistic-regression\n",
            "  n_iter_i = _check_optimize_result(\n"
          ]
        }
      ],
      "source": [
        "i=1\n",
        "mean = 0\n",
        "kf = StratifiedKFold(n_splits=5,random_state=1)\n",
        "\n",
        "for train_index,test_index in kf.split(X,y):\n",
        "    print ('\\n{} of kfold {} '.format(i,kf.n_splits))\n",
        "\n",
        "    xtr,xvl = X.loc[train_index],X.loc[test_index]\n",
        "    ytr,yvl = y[train_index],y[test_index]\n",
        "\n",
        "    model = LogisticRegression(random_state=1)\n",
        "    model.fit(xtr,ytr)\n",
        "\n",
        "    pred_test=model.predict(xvl)\n",
        "    score=accuracy_score(yvl,pred_test)\n",
        "\n",
        "    mean += score #mean=mean+score\n",
        "    print ('accuracy_score',score)\n",
        "\n",
        "    i+=1\n",
        "    pred_test = model.predict(test)\n",
        "    pred = model.predict_proba(xvl)[:,1]\n",
        "\n",
        "print ('\\n Mean Validation Accuracy',mean/(i-1))"
      ]
    },
    {
      "cell_type": "markdown",
      "metadata": {
        "id": "rLwro4IcvWIa"
      },
      "source": [
        "#### So, our mean accuracy is now 80%"
      ]
    },
    {
      "cell_type": "markdown",
      "metadata": {
        "id": "xS-GtUkmvWIa"
      },
      "source": [
        "#### Let's look at the roc curve"
      ]
    },
    {
      "cell_type": "code",
      "execution_count": null,
      "metadata": {
        "id": "Jaq1b4f9vWIa",
        "outputId": "d4482bbd-9670-47c0-e4db-0ca8b0adc6fe"
      },
      "outputs": [
        {
          "data": {
            "image/png": "[encoded data removed]",
            "text/plain": [
              "<Figure size 864x576 with 1 Axes>"
            ]
          },
          "metadata": {
            "needs_background": "light"
          },
          "output_type": "display_data"
        }
      ],
      "source": [
        "from sklearn import metrics\n",
        "fpr, tpr, _ = metrics.roc_curve(yvl, pred)\n",
        "\n",
        "auc = metrics.roc_auc_score(yvl, pred)\n",
        "\n",
        "plt.figure(figsize=(12,8))\n",
        "plt.plot(fpr, tpr, label=\"validation, auc=\"+str(auc))\n",
        "plt.xlabel('False Positive Rate')\n",
        "plt.ylabel('True Positive Rate')\n",
        "plt.legend(loc=4)\n",
        "plt.show()"
      ]
    },
    {
      "cell_type": "markdown",
      "metadata": {
        "id": "5-hoKvD7vWIa"
      },
      "source": [
        "#### So, our auc is 0.71"
      ]
    },
    {
      "cell_type": "markdown",
      "metadata": {
        "id": "m8Mqv8ZxvWIa"
      },
      "source": [
        "### Now, using Decision Tree"
      ]
    },
    {
      "cell_type": "code",
      "execution_count": null,
      "metadata": {
        "scrolled": true,
        "id": "g1lAKkPvvWIb",
        "outputId": "86b396b2-810d-4ba2-a43e-d8013cadd4b9"
      },
      "outputs": [
        {
          "name": "stdout",
          "output_type": "stream",
          "text": [
            "\n",
            "1 of kfold 5 \n",
            "accuracy_score 0.7398373983739838\n",
            "\n",
            "2 of kfold 5 \n",
            "accuracy_score 0.6991869918699187\n",
            "\n",
            "3 of kfold 5 \n",
            "accuracy_score 0.7235772357723578\n",
            "\n",
            "4 of kfold 5 \n",
            "accuracy_score 0.6991869918699187\n",
            "\n",
            "5 of kfold 5 \n",
            "accuracy_score 0.6557377049180327\n",
            "\n",
            " Mean Validation Accuracy 0.7035052645608423\n"
          ]
        }
      ],
      "source": [
        "from sklearn import tree\n",
        "i=1\n",
        "mean = 0\n",
        "kf = StratifiedKFold(n_splits=5,random_state=1,shuffle=True)\n",
        "for train_index,test_index in kf.split(X,y):\n",
        "    print ('\\n{} of kfold {} '.format(i,kf.n_splits))\n",
        "    xtr,xvl = X.loc[train_index],X.loc[test_index]\n",
        "    ytr,yvl = y[train_index],y[test_index]\n",
        "\n",
        "    model = tree.DecisionTreeClassifier(random_state=1)\n",
        "    model.fit(xtr,ytr)\n",
        "    pred_test=model.predict(xvl)\n",
        "    score=accuracy_score(yvl,pred_test)\n",
        "    mean += score\n",
        "    print ('accuracy_score',score)\n",
        "    i+=1\n",
        "    pred_test = model.predict(test)\n",
        "    pred = model.predict_proba(xvl)[:,1]\n",
        "print ('\\n Mean Validation Accuracy',mean/(i-1))"
      ]
    },
    {
      "cell_type": "markdown",
      "metadata": {
        "id": "9GYuNTAIvWIb"
      },
      "source": [
        "### Here, mean accuracy is 70%"
      ]
    },
    {
      "cell_type": "markdown",
      "metadata": {
        "id": "oprcekmmvWIb"
      },
      "source": [
        "### Using Random Forest"
      ]
    },
    {
      "cell_type": "code",
      "execution_count": null,
      "metadata": {
        "id": "2Ly0l6Z8vWIb",
        "outputId": "c7adedaf-4e0d-46c3-e411-0a51252f54da"
      },
      "outputs": [
        {
          "name": "stdout",
          "output_type": "stream",
          "text": [
            "\n",
            "1 of kfold 5 \n",
            "Accuracy_score 0.8130081300813008\n",
            "\n",
            "2 of kfold 5 \n",
            "Accuracy_score 0.8455284552845529\n",
            "\n",
            "3 of kfold 5 \n",
            "Accuracy_score 0.7967479674796748\n",
            "\n",
            "4 of kfold 5 \n",
            "Accuracy_score 0.8211382113821138\n",
            "\n",
            "5 of kfold 5 \n",
            "Accuracy_score 0.7950819672131147\n",
            "\n",
            " Mean Validation Accuracy 0.8143009462881515\n"
          ]
        }
      ],
      "source": [
        "from sklearn.ensemble import RandomForestClassifier\n",
        "i=1\n",
        "mean = 0\n",
        "kf = StratifiedKFold(n_splits=5,random_state=1,shuffle=True)\n",
        "for train_index,test_index in kf.split(X,y):\n",
        "    print ('\\n{} of kfold {} '.format(i,kf.n_splits))\n",
        "    xtr,xvl = X.loc[train_index],X.loc[test_index]\n",
        "    ytr,yvl = y[train_index],y[test_index]\n",
        "    model = RandomForestClassifier(random_state=1, max_depth=10)\n",
        "    model.fit(xtr,ytr)\n",
        "    pred_test=model.predict(xvl)\n",
        "    score=accuracy_score(yvl,pred_test)\n",
        "    mean += score\n",
        "    print ('Accuracy_score',score)\n",
        "    i+=1\n",
        "    pred_test = model.predict(test)\n",
        "    pred = model.predict_proba(xvl)[:,1]\n",
        "\n",
        "print ('\\n Mean Validation Accuracy',mean/(i-1))"
      ]
    },
    {
      "cell_type": "markdown",
      "metadata": {
        "id": "9WXtY-uAvWIb"
      },
      "source": [
        "#### It's 81%"
      ]
    },
    {
      "cell_type": "markdown",
      "metadata": {
        "id": "BP3b4hhjvWIb"
      },
      "source": [
        "#### Now., let's see the most important features..."
      ]
    },
    {
      "cell_type": "code",
      "execution_count": null,
      "metadata": {
        "id": "UqWA0EU3vWIb",
        "outputId": "dbf6f689-f15e-4f39-ffa4-d146cfdca7f7"
      },
      "outputs": [
        {
          "data": {
            "text/plain": [
              "<AxesSubplot:>"
            ]
          },
          "execution_count": 58,
          "metadata": {},
          "output_type": "execute_result"
        },
        {
          "data": {
            "image/png": "[encoded data removed]",
            "text/plain": [
              "<Figure size 720x576 with 1 Axes>"
            ]
          },
          "metadata": {
            "needs_background": "light"
          },
          "output_type": "display_data"
        }
      ],
      "source": [
        "imp = pd.Series(model.feature_importances_, index=X.columns)\n",
        "imp.plot(kind='barh', figsize=(10,8), color ='blue')"
      ]
    },
    {
      "cell_type": "markdown",
      "metadata": {
        "id": "h-NndLrkvWIb"
      },
      "source": [
        "### So, Credit_History, Loan_Amount, Total_Income are the most important ones here."
      ]
    },
    {
      "cell_type": "code",
      "execution_count": null,
      "metadata": {
        "id": "UdD11b48vWIb"
      },
      "outputs": [],
      "source": []
    },
    {
      "cell_type": "code",
      "execution_count": null,
      "metadata": {
        "id": "-k692r-cvWIb",
        "outputId": "3fb55f6c-bafa-4e22-9c23-fd3096bf7d5e"
      },
      "outputs": [
        {
          "name": "stdout",
          "output_type": "stream",
          "text": [
            "Requirement already satisfied: pycaret[full] in c:\\users\\acer\\appdata\\local\\programs\\python\\python38\\lib\\site-packages (2.0)\n",
            "Requirement already satisfied: pyLDAvis in c:\\users\\acer\\appdata\\local\\programs\\python\\python38\\lib\\site-packages (from pycaret[full]) (2.1.2)\n",
            "Requirement already satisfied: spacy in c:\\users\\acer\\appdata\\local\\programs\\python\\python38\\lib\\site-packages (from pycaret[full]) (2.3.2)\n",
            "Requirement already satisfied: mlxtend in c:\\users\\acer\\appdata\\local\\programs\\python\\python38\\lib\\site-packages (from pycaret[full]) (0.17.3)\n",
            "Requirement already satisfied: pandas in c:\\users\\acer\\appdata\\local\\programs\\python\\python38\\lib\\site-packages (from pycaret[full]) (1.1.0)\n",
            "Requirement already satisfied: catboost in c:\\users\\acer\\appdata\\local\\programs\\python\\python38\\lib\\site-packages (from pycaret[full]) (0.24)\n",
            "Requirement already satisfied: nltk in c:\\users\\acer\\appdata\\local\\programs\\python\\python38\\lib\\site-packages (from pycaret[full]) (3.5)\n",
            "Requirement already satisfied: wordcloud in c:\\users\\acer\\appdata\\local\\programs\\python\\python38\\lib\\site-packages (from pycaret[full]) (1.7.0)\n",
            "Requirement already satisfied: textblob in c:\\users\\acer\\appdata\\local\\programs\\python\\python38\\lib\\site-packages (from pycaret[full]) (0.15.3)\n",
            "Requirement already satisfied: joblib in c:\\users\\acer\\appdata\\local\\programs\\python\\python38\\lib\\site-packages (from pycaret[full]) (0.16.0)\n",
            "Requirement already satisfied: kmodes>=0.10.1 in c:\\users\\acer\\appdata\\local\\programs\\python\\python38\\lib\\site-packages (from pycaret[full]) (0.10.2)\n",
            "Requirement already satisfied: plotly>=4.4.1 in c:\\users\\acer\\appdata\\local\\programs\\python\\python38\\lib\\site-packages (from pycaret[full]) (4.9.0)\n",
            "Requirement already satisfied: yellowbrick>=1.0.1 in c:\\users\\acer\\appdata\\local\\programs\\python\\python38\\lib\\site-packages (from pycaret[full]) (1.1)\n",
            "Requirement already satisfied: imbalanced-learn in c:\\users\\acer\\appdata\\local\\programs\\python\\python38\\lib\\site-packages (from pycaret[full]) (0.7.0)\n",
            "Requirement already satisfied: gensim in c:\\users\\acer\\appdata\\local\\programs\\python\\python38\\lib\\site-packages (from pycaret[full]) (3.8.3)\n",
            "Requirement already satisfied: ipywidgets in c:\\users\\acer\\appdata\\local\\programs\\python\\python38\\lib\\site-packages (from pycaret[full]) (7.5.1)\n",
            "Requirement already satisfied: seaborn in c:\\users\\acer\\appdata\\local\\programs\\python\\python38\\lib\\site-packages (from pycaret[full]) (0.10.1)\n",
            "Requirement already satisfied: matplotlib in c:\\users\\acer\\appdata\\local\\programs\\python\\python38\\lib\\site-packages (from pycaret[full]) (3.3.0)\n",
            "Requirement already satisfied: DateTime>=4.3 in c:\\users\\acer\\appdata\\local\\programs\\python\\python38\\lib\\site-packages (from pycaret[full]) (4.3)\n",
            "Requirement already satisfied: pyod in c:\\users\\acer\\appdata\\local\\programs\\python\\python38\\lib\\site-packages (from pycaret[full]) (0.8.1)\n",
            "Requirement already satisfied: IPython in c:\\users\\acer\\appdata\\local\\programs\\python\\python38\\lib\\site-packages (from pycaret[full]) (7.17.0)\n",
            "Requirement already satisfied: cufflinks>=0.17.0 in c:\\users\\acer\\appdata\\local\\programs\\python\\python38\\lib\\site-packages (from pycaret[full]) (0.17.3)\n",
            "Requirement already satisfied: umap-learn in c:\\users\\acer\\appdata\\local\\programs\\python\\python38\\lib\\site-packages (from pycaret[full]) (0.4.6)\n",
            "Requirement already satisfied: numpy>=1.17 in c:\\users\\acer\\appdata\\local\\programs\\python\\python38\\lib\\site-packages (from pycaret[full]) (1.19.5)\n",
            "Requirement already satisfied: datefinder>=0.7.0 in c:\\users\\acer\\appdata\\local\\programs\\python\\python38\\lib\\site-packages (from pycaret[full]) (0.7.1)\n",
            "Requirement already satisfied: lightgbm>=2.3.1 in c:\\users\\acer\\appdata\\local\\programs\\python\\python38\\lib\\site-packages (from pycaret[full]) (2.3.1)\n",
            "Requirement already satisfied: pandas-profiling>=2.3.0 in c:\\users\\acer\\appdata\\local\\programs\\python\\python38\\lib\\site-packages (from pycaret[full]) (2.8.0)\n",
            "Requirement already satisfied: xgboost>=0.90 in c:\\users\\acer\\appdata\\local\\programs\\python\\python38\\lib\\site-packages (from pycaret[full]) (1.1.1)\n",
            "Requirement already satisfied: scikit-learn>=0.23 in c:\\users\\acer\\appdata\\local\\programs\\python\\python38\\lib\\site-packages (from pycaret[full]) (0.23.2)\n",
            "Requirement already satisfied: mlflow in c:\\users\\acer\\appdata\\local\\programs\\python\\python38\\lib\\site-packages (from pycaret[full]) (1.10.0)\n",
            "Requirement already satisfied: wheel>=0.23.0 in c:\\users\\acer\\appdata\\local\\programs\\python\\python38\\lib\\site-packages (from pyLDAvis->pycaret[full]) (0.34.2)\n",
            "Requirement already satisfied: scipy>=0.18.0 in c:\\users\\acer\\appdata\\local\\programs\\python\\python38\\lib\\site-packages (from pyLDAvis->pycaret[full]) (1.5.2)\n",
            "Requirement already satisfied: jinja2>=2.7.2 in c:\\users\\acer\\appdata\\local\\programs\\python\\python38\\lib\\site-packages (from pyLDAvis->pycaret[full]) (2.11.2)Note: you may need to restart the kernel to use updated packages.\n"
          ]
        },
        {
          "name": "stderr",
          "output_type": "stream",
          "text": [
            "  WARNING: pycaret 2.0 does not provide the extra 'full'\n",
            "WARNING: You are using pip version 20.1.1; however, version 21.3.1 is available.\n",
            "You should consider upgrading via the 'c:\\users\\acer\\appdata\\local\\programs\\python\\python38\\python.exe -m pip install --upgrade pip' command.\n"
          ]
        },
        {
          "name": "stdout",
          "output_type": "stream",
          "text": [
            "\n",
            "Requirement already satisfied: numexpr in c:\\users\\acer\\appdata\\local\\programs\\python\\python38\\lib\\site-packages (from pyLDAvis->pycaret[full]) (2.7.1)\n",
            "Requirement already satisfied: pytest in c:\\users\\acer\\appdata\\local\\programs\\python\\python38\\lib\\site-packages (from pyLDAvis->pycaret[full]) (6.0.1)\n",
            "Requirement already satisfied: future in c:\\users\\acer\\appdata\\local\\programs\\python\\python38\\lib\\site-packages (from pyLDAvis->pycaret[full]) (0.18.2)\n",
            "Requirement already satisfied: funcy in c:\\users\\acer\\appdata\\local\\programs\\python\\python38\\lib\\site-packages (from pyLDAvis->pycaret[full]) (1.14)\n",
            "Requirement already satisfied: wasabi<1.1.0,>=0.4.0 in c:\\users\\acer\\appdata\\local\\programs\\python\\python38\\lib\\site-packages (from spacy->pycaret[full]) (0.7.1)\n",
            "Requirement already satisfied: cymem<2.1.0,>=2.0.2 in c:\\users\\acer\\appdata\\local\\programs\\python\\python38\\lib\\site-packages (from spacy->pycaret[full]) (2.0.3)\n",
            "Requirement already satisfied: plac<1.2.0,>=0.9.6 in c:\\users\\acer\\appdata\\local\\programs\\python\\python38\\lib\\site-packages (from spacy->pycaret[full]) (1.1.3)\n",
            "Requirement already satisfied: tqdm<5.0.0,>=4.38.0 in c:\\users\\acer\\appdata\\local\\programs\\python\\python38\\lib\\site-packages (from spacy->pycaret[full]) (4.48.2)\n",
            "Requirement already satisfied: murmurhash<1.1.0,>=0.28.0 in c:\\users\\acer\\appdata\\local\\programs\\python\\python38\\lib\\site-packages (from spacy->pycaret[full]) (1.0.2)\n",
            "Requirement already satisfied: srsly<1.1.0,>=1.0.2 in c:\\users\\acer\\appdata\\local\\programs\\python\\python38\\lib\\site-packages (from spacy->pycaret[full]) (1.0.2)\n",
            "Requirement already satisfied: requests<3.0.0,>=2.13.0 in c:\\users\\acer\\appdata\\local\\programs\\python\\python38\\lib\\site-packages (from spacy->pycaret[full]) (2.24.0)\n",
            "Requirement already satisfied: setuptools in c:\\users\\acer\\appdata\\local\\programs\\python\\python38\\lib\\site-packages (from spacy->pycaret[full]) (47.1.0)\n",
            "Requirement already satisfied: thinc==7.4.1 in c:\\users\\acer\\appdata\\local\\programs\\python\\python38\\lib\\site-packages (from spacy->pycaret[full]) (7.4.1)\n",
            "Requirement already satisfied: blis<0.5.0,>=0.4.0 in c:\\users\\acer\\appdata\\local\\programs\\python\\python38\\lib\\site-packages (from spacy->pycaret[full]) (0.4.1)\n",
            "Requirement already satisfied: catalogue<1.1.0,>=0.0.7 in c:\\users\\acer\\appdata\\local\\programs\\python\\python38\\lib\\site-packages (from spacy->pycaret[full]) (1.0.0)\n",
            "Requirement already satisfied: preshed<3.1.0,>=3.0.2 in c:\\users\\acer\\appdata\\local\\programs\\python\\python38\\lib\\site-packages (from spacy->pycaret[full]) (3.0.2)\n",
            "Requirement already satisfied: pytz>=2017.2 in c:\\users\\acer\\appdata\\local\\programs\\python\\python38\\lib\\site-packages (from pandas->pycaret[full]) (2020.1)\n",
            "Requirement already satisfied: python-dateutil>=2.7.3 in c:\\users\\acer\\appdata\\local\\programs\\python\\python38\\lib\\site-packages (from pandas->pycaret[full]) (2.8.1)\n",
            "Requirement already satisfied: six in c:\\users\\acer\\appdata\\local\\programs\\python\\python38\\lib\\site-packages (from catboost->pycaret[full]) (1.15.0)\n",
            "Requirement already satisfied: graphviz in c:\\users\\acer\\appdata\\local\\programs\\python\\python38\\lib\\site-packages (from catboost->pycaret[full]) (0.14.1)\n",
            "Requirement already satisfied: click in c:\\users\\acer\\appdata\\local\\programs\\python\\python38\\lib\\site-packages (from nltk->pycaret[full]) (7.1.2)\n",
            "Requirement already satisfied: regex in c:\\users\\acer\\appdata\\local\\programs\\python\\python38\\lib\\site-packages (from nltk->pycaret[full]) (2020.7.14)\n",
            "Requirement already satisfied: pillow in c:\\users\\acer\\appdata\\local\\programs\\python\\python38\\lib\\site-packages (from wordcloud->pycaret[full]) (7.2.0)\n",
            "Requirement already satisfied: retrying>=1.3.3 in c:\\users\\acer\\appdata\\local\\programs\\python\\python38\\lib\\site-packages (from plotly>=4.4.1->pycaret[full]) (1.3.3)\n",
            "Requirement already satisfied: cycler>=0.10.0 in c:\\users\\acer\\appdata\\local\\programs\\python\\python38\\lib\\site-packages (from yellowbrick>=1.0.1->pycaret[full]) (0.10.0)\n",
            "Requirement already satisfied: Cython==0.29.14 in c:\\users\\acer\\appdata\\local\\programs\\python\\python38\\lib\\site-packages (from gensim->pycaret[full]) (0.29.14)\n",
            "Requirement already satisfied: smart-open>=1.8.1 in c:\\users\\acer\\appdata\\local\\programs\\python\\python38\\lib\\site-packages (from gensim->pycaret[full]) (2.1.0)\n",
            "Requirement already satisfied: widgetsnbextension~=3.5.0 in c:\\users\\acer\\appdata\\local\\programs\\python\\python38\\lib\\site-packages (from ipywidgets->pycaret[full]) (3.5.1)\n",
            "Requirement already satisfied: nbformat>=4.2.0 in c:\\users\\acer\\appdata\\local\\programs\\python\\python38\\lib\\site-packages (from ipywidgets->pycaret[full]) (5.0.7)\n",
            "Requirement already satisfied: ipykernel>=4.5.1 in c:\\users\\acer\\appdata\\local\\programs\\python\\python38\\lib\\site-packages (from ipywidgets->pycaret[full]) (5.3.4)\n",
            "Requirement already satisfied: traitlets>=4.3.1 in c:\\users\\acer\\appdata\\local\\programs\\python\\python38\\lib\\site-packages (from ipywidgets->pycaret[full]) (4.3.3)\n",
            "Requirement already satisfied: pyparsing!=2.0.4,!=2.1.2,!=2.1.6,>=2.0.3 in c:\\users\\acer\\appdata\\local\\programs\\python\\python38\\lib\\site-packages (from matplotlib->pycaret[full]) (2.4.7)\n",
            "Requirement already satisfied: kiwisolver>=1.0.1 in c:\\users\\acer\\appdata\\local\\programs\\python\\python38\\lib\\site-packages (from matplotlib->pycaret[full]) (1.2.0)\n",
            "Requirement already satisfied: zope.interface in c:\\users\\acer\\appdata\\local\\programs\\python\\python38\\lib\\site-packages (from DateTime>=4.3->pycaret[full]) (5.1.0)\n",
            "Requirement already satisfied: combo in c:\\users\\acer\\appdata\\local\\programs\\python\\python38\\lib\\site-packages (from pyod->pycaret[full]) (0.1.1)\n",
            "Requirement already satisfied: numba>=0.35 in c:\\users\\acer\\appdata\\local\\programs\\python\\python38\\lib\\site-packages (from pyod->pycaret[full]) (0.50.1)\n",
            "Requirement already satisfied: suod in c:\\users\\acer\\appdata\\local\\programs\\python\\python38\\lib\\site-packages (from pyod->pycaret[full]) (0.0.4)\n",
            "Requirement already satisfied: pygments in c:\\users\\acer\\appdata\\local\\programs\\python\\python38\\lib\\site-packages (from IPython->pycaret[full]) (2.6.1)\n",
            "Requirement already satisfied: jedi>=0.10 in c:\\users\\acer\\appdata\\local\\programs\\python\\python38\\lib\\site-packages (from IPython->pycaret[full]) (0.17.2)\n",
            "Requirement already satisfied: backcall in c:\\users\\acer\\appdata\\local\\programs\\python\\python38\\lib\\site-packages (from IPython->pycaret[full]) (0.2.0)\n",
            "Requirement already satisfied: pickleshare in c:\\users\\acer\\appdata\\local\\programs\\python\\python38\\lib\\site-packages (from IPython->pycaret[full]) (0.7.5)\n",
            "Requirement already satisfied: decorator in c:\\users\\acer\\appdata\\local\\programs\\python\\python38\\lib\\site-packages (from IPython->pycaret[full]) (4.4.2)\n",
            "Requirement already satisfied: prompt-toolkit!=3.0.0,!=3.0.1,<3.1.0,>=2.0.0 in c:\\users\\acer\\appdata\\local\\programs\\python\\python38\\lib\\site-packages (from IPython->pycaret[full]) (3.0.6)\n",
            "Requirement already satisfied: colorama; sys_platform == \"win32\" in c:\\users\\acer\\appdata\\local\\programs\\python\\python38\\lib\\site-packages (from IPython->pycaret[full]) (0.4.3)\n",
            "Requirement already satisfied: colorlover>=0.2.1 in c:\\users\\acer\\appdata\\local\\programs\\python\\python38\\lib\\site-packages (from cufflinks>=0.17.0->pycaret[full]) (0.3.0)\n",
            "Requirement already satisfied: missingno>=0.4.2 in c:\\users\\acer\\appdata\\local\\programs\\python\\python38\\lib\\site-packages (from pandas-profiling>=2.3.0->pycaret[full]) (0.4.2)\n",
            "Requirement already satisfied: astropy>=4.0 in c:\\users\\acer\\appdata\\local\\programs\\python\\python38\\lib\\site-packages (from pandas-profiling>=2.3.0->pycaret[full]) (4.0.1.post1)\n",
            "Requirement already satisfied: confuse>=1.0.0 in c:\\users\\acer\\appdata\\local\\programs\\python\\python38\\lib\\site-packages (from pandas-profiling>=2.3.0->pycaret[full]) (1.3.0)\n",
            "Requirement already satisfied: htmlmin>=0.1.12 in c:\\users\\acer\\appdata\\local\\programs\\python\\python38\\lib\\site-packages (from pandas-profiling>=2.3.0->pycaret[full]) (0.1.12)\n",
            "Requirement already satisfied: tangled-up-in-unicode>=0.0.6 in c:\\users\\acer\\appdata\\local\\programs\\python\\python38\\lib\\site-packages (from pandas-profiling>=2.3.0->pycaret[full]) (0.0.6)\n",
            "Requirement already satisfied: visions[type_image_path]==0.4.4 in c:\\users\\acer\\appdata\\local\\programs\\python\\python38\\lib\\site-packages (from pandas-profiling>=2.3.0->pycaret[full]) (0.4.4)\n",
            "Requirement already satisfied: phik>=0.9.10 in c:\\users\\acer\\appdata\\local\\programs\\python\\python38\\lib\\site-packages (from pandas-profiling>=2.3.0->pycaret[full]) (0.10.0)\n",
            "Requirement already satisfied: threadpoolctl>=2.0.0 in c:\\users\\acer\\appdata\\local\\programs\\python\\python38\\lib\\site-packages (from scikit-learn>=0.23->pycaret[full]) (2.1.0)\n",
            "Requirement already satisfied: sqlalchemy<=1.3.13 in c:\\users\\acer\\appdata\\local\\programs\\python\\python38\\lib\\site-packages (from mlflow->pycaret[full]) (1.3.13)\n",
            "Requirement already satisfied: entrypoints in c:\\users\\acer\\appdata\\local\\programs\\python\\python38\\lib\\site-packages (from mlflow->pycaret[full]) (0.3)\n",
            "Requirement already satisfied: gorilla in c:\\users\\acer\\appdata\\local\\programs\\python\\python38\\lib\\site-packages (from mlflow->pycaret[full]) (0.3.0)\n",
            "Requirement already satisfied: protobuf>=3.6.0 in c:\\users\\acer\\appdata\\local\\programs\\python\\python38\\lib\\site-packages (from mlflow->pycaret[full]) (3.12.4)\n",
            "Requirement already satisfied: Flask in c:\\users\\acer\\appdata\\local\\programs\\python\\python38\\lib\\site-packages (from mlflow->pycaret[full]) (1.1.2)\n",
            "Requirement already satisfied: waitress; platform_system == \"Windows\" in c:\\users\\acer\\appdata\\local\\programs\\python\\python38\\lib\\site-packages (from mlflow->pycaret[full]) (1.4.4)\n",
            "Requirement already satisfied: prometheus-flask-exporter in c:\\users\\acer\\appdata\\local\\programs\\python\\python38\\lib\\site-packages (from mlflow->pycaret[full]) (0.15.4)\n",
            "Requirement already satisfied: querystring-parser in c:\\users\\acer\\appdata\\local\\programs\\python\\python38\\lib\\site-packages (from mlflow->pycaret[full]) (1.2.4)\n",
            "Requirement already satisfied: azure-storage-blob>=12.0 in c:\\users\\acer\\appdata\\local\\programs\\python\\python38\\lib\\site-packages (from mlflow->pycaret[full]) (12.3.2)\n",
            "Requirement already satisfied: databricks-cli>=0.8.7 in c:\\users\\acer\\appdata\\local\\programs\\python\\python38\\lib\\site-packages (from mlflow->pycaret[full]) (0.11.0)\n",
            "Requirement already satisfied: cloudpickle in c:\\users\\acer\\appdata\\local\\programs\\python\\python38\\lib\\site-packages (from mlflow->pycaret[full]) (1.5.0)\n",
            "Requirement already satisfied: gitpython>=2.1.0 in c:\\users\\acer\\appdata\\local\\programs\\python\\python38\\lib\\site-packages (from mlflow->pycaret[full]) (3.1.7)\n",
            "Requirement already satisfied: alembic in c:\\users\\acer\\appdata\\local\\programs\\python\\python38\\lib\\site-packages (from mlflow->pycaret[full]) (1.4.2)\n",
            "Requirement already satisfied: sqlparse in c:\\users\\acer\\appdata\\local\\programs\\python\\python38\\lib\\site-packages (from mlflow->pycaret[full]) (0.3.1)\n",
            "Requirement already satisfied: pyyaml in c:\\users\\acer\\appdata\\local\\programs\\python\\python38\\lib\\site-packages (from mlflow->pycaret[full]) (5.3.1)\n",
            "Requirement already satisfied: docker>=4.0.0 in c:\\users\\acer\\appdata\\local\\programs\\python\\python38\\lib\\site-packages (from mlflow->pycaret[full]) (4.3.0)\n",
            "Requirement already satisfied: MarkupSafe>=0.23 in c:\\users\\acer\\appdata\\local\\programs\\python\\python38\\lib\\site-packages (from jinja2>=2.7.2->pyLDAvis->pycaret[full]) (1.1.1)\n",
            "Requirement already satisfied: atomicwrites>=1.0; sys_platform == \"win32\" in c:\\users\\acer\\appdata\\local\\programs\\python\\python38\\lib\\site-packages (from pytest->pyLDAvis->pycaret[full]) (1.4.0)\n",
            "Requirement already satisfied: attrs>=17.4.0 in c:\\users\\acer\\appdata\\local\\programs\\python\\python38\\lib\\site-packages (from pytest->pyLDAvis->pycaret[full]) (19.3.0)\n",
            "Requirement already satisfied: packaging in c:\\users\\acer\\appdata\\local\\programs\\python\\python38\\lib\\site-packages (from pytest->pyLDAvis->pycaret[full]) (20.4)\n",
            "Requirement already satisfied: more-itertools>=4.0.0 in c:\\users\\acer\\appdata\\local\\programs\\python\\python38\\lib\\site-packages (from pytest->pyLDAvis->pycaret[full]) (8.4.0)\n",
            "Requirement already satisfied: pluggy<1.0,>=0.12 in c:\\users\\acer\\appdata\\local\\programs\\python\\python38\\lib\\site-packages (from pytest->pyLDAvis->pycaret[full]) (0.13.1)\n",
            "Requirement already satisfied: iniconfig in c:\\users\\acer\\appdata\\local\\programs\\python\\python38\\lib\\site-packages (from pytest->pyLDAvis->pycaret[full]) (1.0.1)\n",
            "Requirement already satisfied: toml in c:\\users\\acer\\appdata\\local\\programs\\python\\python38\\lib\\site-packages (from pytest->pyLDAvis->pycaret[full]) (0.10.1)\n",
            "Requirement already satisfied: py>=1.8.2 in c:\\users\\acer\\appdata\\local\\programs\\python\\python38\\lib\\site-packages (from pytest->pyLDAvis->pycaret[full]) (1.9.0)\n",
            "Requirement already satisfied: idna<3,>=2.5 in c:\\users\\acer\\appdata\\local\\programs\\python\\python38\\lib\\site-packages (from requests<3.0.0,>=2.13.0->spacy->pycaret[full]) (2.10)\n",
            "Requirement already satisfied: urllib3!=1.25.0,!=1.25.1,<1.26,>=1.21.1 in c:\\users\\acer\\appdata\\local\\programs\\python\\python38\\lib\\site-packages (from requests<3.0.0,>=2.13.0->spacy->pycaret[full]) (1.25.10)\n",
            "Requirement already satisfied: chardet<4,>=3.0.2 in c:\\users\\acer\\appdata\\local\\programs\\python\\python38\\lib\\site-packages (from requests<3.0.0,>=2.13.0->spacy->pycaret[full]) (3.0.4)\n",
            "Requirement already satisfied: certifi>=2017.4.17 in c:\\users\\acer\\appdata\\local\\programs\\python\\python38\\lib\\site-packages (from requests<3.0.0,>=2.13.0->spacy->pycaret[full]) (2020.6.20)\n",
            "Requirement already satisfied: boto in c:\\users\\acer\\appdata\\local\\programs\\python\\python38\\lib\\site-packages (from smart-open>=1.8.1->gensim->pycaret[full]) (2.49.0)\n",
            "Requirement already satisfied: boto3 in c:\\users\\acer\\appdata\\local\\programs\\python\\python38\\lib\\site-packages (from smart-open>=1.8.1->gensim->pycaret[full]) (1.14.39)\n",
            "Requirement already satisfied: notebook>=4.4.1 in c:\\users\\acer\\appdata\\local\\programs\\python\\python38\\lib\\site-packages (from widgetsnbextension~=3.5.0->ipywidgets->pycaret[full]) (6.1.1)\n",
            "Requirement already satisfied: jsonschema!=2.5.0,>=2.4 in c:\\users\\acer\\appdata\\local\\programs\\python\\python38\\lib\\site-packages (from nbformat>=4.2.0->ipywidgets->pycaret[full]) (3.2.0)\n",
            "Requirement already satisfied: ipython-genutils in c:\\users\\acer\\appdata\\local\\programs\\python\\python38\\lib\\site-packages (from nbformat>=4.2.0->ipywidgets->pycaret[full]) (0.2.0)\n",
            "Requirement already satisfied: jupyter-core in c:\\users\\acer\\appdata\\local\\programs\\python\\python38\\lib\\site-packages (from nbformat>=4.2.0->ipywidgets->pycaret[full]) (4.6.3)\n",
            "Requirement already satisfied: jupyter-client in c:\\users\\acer\\appdata\\local\\programs\\python\\python38\\lib\\site-packages (from ipykernel>=4.5.1->ipywidgets->pycaret[full]) (6.1.6)\n",
            "Requirement already satisfied: tornado>=4.2 in c:\\users\\acer\\appdata\\local\\programs\\python\\python38\\lib\\site-packages (from ipykernel>=4.5.1->ipywidgets->pycaret[full]) (6.0.4)\n",
            "Requirement already satisfied: llvmlite<0.34,>=0.33.0.dev0 in c:\\users\\acer\\appdata\\local\\programs\\python\\python38\\lib\\site-packages (from numba>=0.35->pyod->pycaret[full]) (0.33.0)\n",
            "Requirement already satisfied: parso<0.8.0,>=0.7.0 in c:\\users\\acer\\appdata\\local\\programs\\python\\python38\\lib\\site-packages (from jedi>=0.10->IPython->pycaret[full]) (0.7.1)\n",
            "Requirement already satisfied: wcwidth in c:\\users\\acer\\appdata\\local\\programs\\python\\python38\\lib\\site-packages (from prompt-toolkit!=3.0.0,!=3.0.1,<3.1.0,>=2.0.0->IPython->pycaret[full]) (0.2.5)\n",
            "Requirement already satisfied: networkx>=2.4 in c:\\users\\acer\\appdata\\local\\programs\\python\\python38\\lib\\site-packages (from visions[type_image_path]==0.4.4->pandas-profiling>=2.3.0->pycaret[full]) (2.4)\n",
            "Requirement already satisfied: imagehash; extra == \"type_image_path\" in c:\\users\\acer\\appdata\\local\\programs\\python\\python38\\lib\\site-packages (from visions[type_image_path]==0.4.4->pandas-profiling>=2.3.0->pycaret[full]) (4.1.0)\n",
            "Requirement already satisfied: Werkzeug>=0.15 in c:\\users\\acer\\appdata\\local\\programs\\python\\python38\\lib\\site-packages (from Flask->mlflow->pycaret[full]) (1.0.1)\n",
            "Requirement already satisfied: itsdangerous>=0.24 in c:\\users\\acer\\appdata\\local\\programs\\python\\python38\\lib\\site-packages (from Flask->mlflow->pycaret[full]) (1.1.0)\n",
            "Requirement already satisfied: prometheus_client in c:\\users\\acer\\appdata\\local\\programs\\python\\python38\\lib\\site-packages (from prometheus-flask-exporter->mlflow->pycaret[full]) (0.8.0)\n",
            "Requirement already satisfied: cryptography>=2.1.4 in c:\\users\\acer\\appdata\\local\\programs\\python\\python38\\lib\\site-packages (from azure-storage-blob>=12.0->mlflow->pycaret[full]) (3.0)\n",
            "Requirement already satisfied: msrest>=0.6.10 in c:\\users\\acer\\appdata\\local\\programs\\python\\python38\\lib\\site-packages (from azure-storage-blob>=12.0->mlflow->pycaret[full]) (0.6.18)\n",
            "Requirement already satisfied: azure-core<2.0.0,>=1.6.0 in c:\\users\\acer\\appdata\\local\\programs\\python\\python38\\lib\\site-packages (from azure-storage-blob>=12.0->mlflow->pycaret[full]) (1.8.0)\n",
            "Requirement already satisfied: tabulate>=0.7.7 in c:\\users\\acer\\appdata\\local\\programs\\python\\python38\\lib\\site-packages (from databricks-cli>=0.8.7->mlflow->pycaret[full]) (0.8.7)\n",
            "Requirement already satisfied: gitdb<5,>=4.0.1 in c:\\users\\acer\\appdata\\local\\programs\\python\\python38\\lib\\site-packages (from gitpython>=2.1.0->mlflow->pycaret[full]) (4.0.5)\n",
            "Requirement already satisfied: Mako in c:\\users\\acer\\appdata\\local\\programs\\python\\python38\\lib\\site-packages (from alembic->mlflow->pycaret[full]) (1.1.3)\n",
            "Requirement already satisfied: python-editor>=0.3 in c:\\users\\acer\\appdata\\local\\programs\\python\\python38\\lib\\site-packages (from alembic->mlflow->pycaret[full]) (1.0.4)\n",
            "Requirement already satisfied: pywin32==227; sys_platform == \"win32\" in c:\\users\\acer\\appdata\\local\\programs\\python\\python38\\lib\\site-packages (from docker>=4.0.0->mlflow->pycaret[full]) (227)\n",
            "Requirement already satisfied: websocket-client>=0.32.0 in c:\\users\\acer\\appdata\\local\\programs\\python\\python38\\lib\\site-packages (from docker>=4.0.0->mlflow->pycaret[full]) (0.57.0)\n",
            "Requirement already satisfied: botocore<1.18.0,>=1.17.39 in c:\\users\\acer\\appdata\\local\\programs\\python\\python38\\lib\\site-packages (from boto3->smart-open>=1.8.1->gensim->pycaret[full]) (1.17.39)\n",
            "Requirement already satisfied: jmespath<1.0.0,>=0.7.1 in c:\\users\\acer\\appdata\\local\\programs\\python\\python38\\lib\\site-packages (from boto3->smart-open>=1.8.1->gensim->pycaret[full]) (0.10.0)\n",
            "Requirement already satisfied: s3transfer<0.4.0,>=0.3.0 in c:\\users\\acer\\appdata\\local\\programs\\python\\python38\\lib\\site-packages (from boto3->smart-open>=1.8.1->gensim->pycaret[full]) (0.3.3)\n",
            "Requirement already satisfied: argon2-cffi in c:\\users\\acer\\appdata\\local\\programs\\python\\python38\\lib\\site-packages (from notebook>=4.4.1->widgetsnbextension~=3.5.0->ipywidgets->pycaret[full]) (20.1.0)\n",
            "Requirement already satisfied: Send2Trash in c:\\users\\acer\\appdata\\local\\programs\\python\\python38\\lib\\site-packages (from notebook>=4.4.1->widgetsnbextension~=3.5.0->ipywidgets->pycaret[full]) (1.5.0)\n",
            "Requirement already satisfied: nbconvert in c:\\users\\acer\\appdata\\local\\programs\\python\\python38\\lib\\site-packages (from notebook>=4.4.1->widgetsnbextension~=3.5.0->ipywidgets->pycaret[full]) (5.6.1)\n",
            "Requirement already satisfied: pyzmq>=17 in c:\\users\\acer\\appdata\\local\\programs\\python\\python38\\lib\\site-packages (from notebook>=4.4.1->widgetsnbextension~=3.5.0->ipywidgets->pycaret[full]) (19.0.2)\n",
            "Requirement already satisfied: terminado>=0.8.3 in c:\\users\\acer\\appdata\\local\\programs\\python\\python38\\lib\\site-packages (from notebook>=4.4.1->widgetsnbextension~=3.5.0->ipywidgets->pycaret[full]) (0.8.3)\n",
            "Requirement already satisfied: pyrsistent>=0.14.0 in c:\\users\\acer\\appdata\\local\\programs\\python\\python38\\lib\\site-packages (from jsonschema!=2.5.0,>=2.4->nbformat>=4.2.0->ipywidgets->pycaret[full]) (0.16.0)\n",
            "Requirement already satisfied: PyWavelets in c:\\users\\acer\\appdata\\local\\programs\\python\\python38\\lib\\site-packages (from imagehash; extra == \"type_image_path\"->visions[type_image_path]==0.4.4->pandas-profiling>=2.3.0->pycaret[full]) (1.1.1)\n",
            "Requirement already satisfied: cffi!=1.11.3,>=1.8 in c:\\users\\acer\\appdata\\local\\programs\\python\\python38\\lib\\site-packages (from cryptography>=2.1.4->azure-storage-blob>=12.0->mlflow->pycaret[full]) (1.14.1)\n",
            "Requirement already satisfied: requests-oauthlib>=0.5.0 in c:\\users\\acer\\appdata\\local\\programs\\python\\python38\\lib\\site-packages (from msrest>=0.6.10->azure-storage-blob>=12.0->mlflow->pycaret[full]) (1.3.0)\n",
            "Requirement already satisfied: isodate>=0.6.0 in c:\\users\\acer\\appdata\\local\\programs\\python\\python38\\lib\\site-packages (from msrest>=0.6.10->azure-storage-blob>=12.0->mlflow->pycaret[full]) (0.6.0)\n",
            "Requirement already satisfied: smmap<4,>=3.0.1 in c:\\users\\acer\\appdata\\local\\programs\\python\\python38\\lib\\site-packages (from gitdb<5,>=4.0.1->gitpython>=2.1.0->mlflow->pycaret[full]) (3.0.4)\n",
            "Requirement already satisfied: docutils<0.16,>=0.10 in c:\\users\\acer\\appdata\\local\\programs\\python\\python38\\lib\\site-packages (from botocore<1.18.0,>=1.17.39->boto3->smart-open>=1.8.1->gensim->pycaret[full]) (0.15.2)\n",
            "Requirement already satisfied: mistune<2,>=0.8.1 in c:\\users\\acer\\appdata\\local\\programs\\python\\python38\\lib\\site-packages (from nbconvert->notebook>=4.4.1->widgetsnbextension~=3.5.0->ipywidgets->pycaret[full]) (0.8.4)\n",
            "Requirement already satisfied: bleach in c:\\users\\acer\\appdata\\local\\programs\\python\\python38\\lib\\site-packages (from nbconvert->notebook>=4.4.1->widgetsnbextension~=3.5.0->ipywidgets->pycaret[full]) (3.1.5)\n",
            "Requirement already satisfied: pandocfilters>=1.4.1 in c:\\users\\acer\\appdata\\local\\programs\\python\\python38\\lib\\site-packages (from nbconvert->notebook>=4.4.1->widgetsnbextension~=3.5.0->ipywidgets->pycaret[full]) (1.4.2)\n",
            "Requirement already satisfied: defusedxml in c:\\users\\acer\\appdata\\local\\programs\\python\\python38\\lib\\site-packages (from nbconvert->notebook>=4.4.1->widgetsnbextension~=3.5.0->ipywidgets->pycaret[full]) (0.6.0)\n",
            "Requirement already satisfied: testpath in c:\\users\\acer\\appdata\\local\\programs\\python\\python38\\lib\\site-packages (from nbconvert->notebook>=4.4.1->widgetsnbextension~=3.5.0->ipywidgets->pycaret[full]) (0.4.4)\n",
            "Requirement already satisfied: pywinpty>=0.5; os_name == \"nt\" in c:\\users\\acer\\appdata\\local\\programs\\python\\python38\\lib\\site-packages (from terminado>=0.8.3->notebook>=4.4.1->widgetsnbextension~=3.5.0->ipywidgets->pycaret[full]) (0.5.7)\n",
            "Requirement already satisfied: pycparser in c:\\users\\acer\\appdata\\local\\programs\\python\\python38\\lib\\site-packages (from cffi!=1.11.3,>=1.8->cryptography>=2.1.4->azure-storage-blob>=12.0->mlflow->pycaret[full]) (2.20)\n",
            "Requirement already satisfied: oauthlib>=3.0.0 in c:\\users\\acer\\appdata\\local\\programs\\python\\python38\\lib\\site-packages (from requests-oauthlib>=0.5.0->msrest>=0.6.10->azure-storage-blob>=12.0->mlflow->pycaret[full]) (3.1.0)\n",
            "Requirement already satisfied: webencodings in c:\\users\\acer\\appdata\\local\\programs\\python\\python38\\lib\\site-packages (from bleach->nbconvert->notebook>=4.4.1->widgetsnbextension~=3.5.0->ipywidgets->pycaret[full]) (0.5.1)\n"
          ]
        }
      ],
      "source": [
        "!pip install pycaret[full]\n"
      ]
    },
    {
      "cell_type": "code",
      "execution_count": null,
      "metadata": {
        "id": "YnjPLFvmvWIb",
        "outputId": "93a6b2ac-f1e6-41e1-b66e-102f470bc2a9"
      },
      "outputs": [
        {
          "data": {
            "text/html": [
              "<style  type=\"text/css\" >\n",
              "#T_828ad1a0_813c_11ec_9877_9828a63322d5row10_col0,#T_828ad1a0_813c_11ec_9877_9828a63322d5row10_col1,#T_828ad1a0_813c_11ec_9877_9828a63322d5row10_col2,#T_828ad1a0_813c_11ec_9877_9828a63322d5row10_col3,#T_828ad1a0_813c_11ec_9877_9828a63322d5row10_col4,#T_828ad1a0_813c_11ec_9877_9828a63322d5row10_col5,#T_828ad1a0_813c_11ec_9877_9828a63322d5row10_col6{\n",
              "            background:  yellow;\n",
              "        }</style><table id=\"T_828ad1a0_813c_11ec_9877_9828a63322d5\" ><thead>    <tr>        <th class=\"blank level0\" ></th>        <th class=\"col_heading level0 col0\" >Accuracy</th>        <th class=\"col_heading level0 col1\" >AUC</th>        <th class=\"col_heading level0 col2\" >Recall</th>        <th class=\"col_heading level0 col3\" >Prec.</th>        <th class=\"col_heading level0 col4\" >F1</th>        <th class=\"col_heading level0 col5\" >Kappa</th>        <th class=\"col_heading level0 col6\" >MCC</th>    </tr></thead><tbody>\n",
              "                <tr>\n",
              "                        <th id=\"T_828ad1a0_813c_11ec_9877_9828a63322d5level0_row0\" class=\"row_heading level0 row0\" >0</th>\n",
              "                        <td id=\"T_828ad1a0_813c_11ec_9877_9828a63322d5row0_col0\" class=\"data row0 col0\" >0.8140</td>\n",
              "                        <td id=\"T_828ad1a0_813c_11ec_9877_9828a63322d5row0_col1\" class=\"data row0 col1\" >0.6744</td>\n",
              "                        <td id=\"T_828ad1a0_813c_11ec_9877_9828a63322d5row0_col2\" class=\"data row0 col2\" >0.9667</td>\n",
              "                        <td id=\"T_828ad1a0_813c_11ec_9877_9828a63322d5row0_col3\" class=\"data row0 col3\" >0.8056</td>\n",
              "                        <td id=\"T_828ad1a0_813c_11ec_9877_9828a63322d5row0_col4\" class=\"data row0 col4\" >0.8788</td>\n",
              "                        <td id=\"T_828ad1a0_813c_11ec_9877_9828a63322d5row0_col5\" class=\"data row0 col5\" >0.4926</td>\n",
              "                        <td id=\"T_828ad1a0_813c_11ec_9877_9828a63322d5row0_col6\" class=\"data row0 col6\" >0.5327</td>\n",
              "            </tr>\n",
              "            <tr>\n",
              "                        <th id=\"T_828ad1a0_813c_11ec_9877_9828a63322d5level0_row1\" class=\"row_heading level0 row1\" >1</th>\n",
              "                        <td id=\"T_828ad1a0_813c_11ec_9877_9828a63322d5row1_col0\" class=\"data row1 col0\" >0.7907</td>\n",
              "                        <td id=\"T_828ad1a0_813c_11ec_9877_9828a63322d5row1_col1\" class=\"data row1 col1\" >0.6872</td>\n",
              "                        <td id=\"T_828ad1a0_813c_11ec_9877_9828a63322d5row1_col2\" class=\"data row1 col2\" >1.0000</td>\n",
              "                        <td id=\"T_828ad1a0_813c_11ec_9877_9828a63322d5row1_col3\" class=\"data row1 col3\" >0.7692</td>\n",
              "                        <td id=\"T_828ad1a0_813c_11ec_9877_9828a63322d5row1_col4\" class=\"data row1 col4\" >0.8696</td>\n",
              "                        <td id=\"T_828ad1a0_813c_11ec_9877_9828a63322d5row1_col5\" class=\"data row1 col5\" >0.3828</td>\n",
              "                        <td id=\"T_828ad1a0_813c_11ec_9877_9828a63322d5row1_col6\" class=\"data row1 col6\" >0.4865</td>\n",
              "            </tr>\n",
              "            <tr>\n",
              "                        <th id=\"T_828ad1a0_813c_11ec_9877_9828a63322d5level0_row2\" class=\"row_heading level0 row2\" >2</th>\n",
              "                        <td id=\"T_828ad1a0_813c_11ec_9877_9828a63322d5row2_col0\" class=\"data row2 col0\" >0.7674</td>\n",
              "                        <td id=\"T_828ad1a0_813c_11ec_9877_9828a63322d5row2_col1\" class=\"data row2 col1\" >0.6359</td>\n",
              "                        <td id=\"T_828ad1a0_813c_11ec_9877_9828a63322d5row2_col2\" class=\"data row2 col2\" >0.9667</td>\n",
              "                        <td id=\"T_828ad1a0_813c_11ec_9877_9828a63322d5row2_col3\" class=\"data row2 col3\" >0.7632</td>\n",
              "                        <td id=\"T_828ad1a0_813c_11ec_9877_9828a63322d5row2_col4\" class=\"data row2 col4\" >0.8529</td>\n",
              "                        <td id=\"T_828ad1a0_813c_11ec_9877_9828a63322d5row2_col5\" class=\"data row2 col5\" >0.3323</td>\n",
              "                        <td id=\"T_828ad1a0_813c_11ec_9877_9828a63322d5row2_col6\" class=\"data row2 col6\" >0.3931</td>\n",
              "            </tr>\n",
              "            <tr>\n",
              "                        <th id=\"T_828ad1a0_813c_11ec_9877_9828a63322d5level0_row3\" class=\"row_heading level0 row3\" >3</th>\n",
              "                        <td id=\"T_828ad1a0_813c_11ec_9877_9828a63322d5row3_col0\" class=\"data row3 col0\" >0.7674</td>\n",
              "                        <td id=\"T_828ad1a0_813c_11ec_9877_9828a63322d5row3_col1\" class=\"data row3 col1\" >0.8385</td>\n",
              "                        <td id=\"T_828ad1a0_813c_11ec_9877_9828a63322d5row3_col2\" class=\"data row3 col2\" >1.0000</td>\n",
              "                        <td id=\"T_828ad1a0_813c_11ec_9877_9828a63322d5row3_col3\" class=\"data row3 col3\" >0.7500</td>\n",
              "                        <td id=\"T_828ad1a0_813c_11ec_9877_9828a63322d5row3_col4\" class=\"data row3 col4\" >0.8571</td>\n",
              "                        <td id=\"T_828ad1a0_813c_11ec_9877_9828a63322d5row3_col5\" class=\"data row3 col5\" >0.2951</td>\n",
              "                        <td id=\"T_828ad1a0_813c_11ec_9877_9828a63322d5row3_col6\" class=\"data row3 col6\" >0.4160</td>\n",
              "            </tr>\n",
              "            <tr>\n",
              "                        <th id=\"T_828ad1a0_813c_11ec_9877_9828a63322d5level0_row4\" class=\"row_heading level0 row4\" >4</th>\n",
              "                        <td id=\"T_828ad1a0_813c_11ec_9877_9828a63322d5row4_col0\" class=\"data row4 col0\" >0.8372</td>\n",
              "                        <td id=\"T_828ad1a0_813c_11ec_9877_9828a63322d5row4_col1\" class=\"data row4 col1\" >0.7000</td>\n",
              "                        <td id=\"T_828ad1a0_813c_11ec_9877_9828a63322d5row4_col2\" class=\"data row4 col2\" >0.9333</td>\n",
              "                        <td id=\"T_828ad1a0_813c_11ec_9877_9828a63322d5row4_col3\" class=\"data row4 col3\" >0.8485</td>\n",
              "                        <td id=\"T_828ad1a0_813c_11ec_9877_9828a63322d5row4_col4\" class=\"data row4 col4\" >0.8889</td>\n",
              "                        <td id=\"T_828ad1a0_813c_11ec_9877_9828a63322d5row4_col5\" class=\"data row4 col5\" >0.5871</td>\n",
              "                        <td id=\"T_828ad1a0_813c_11ec_9877_9828a63322d5row4_col6\" class=\"data row4 col6\" >0.5965</td>\n",
              "            </tr>\n",
              "            <tr>\n",
              "                        <th id=\"T_828ad1a0_813c_11ec_9877_9828a63322d5level0_row5\" class=\"row_heading level0 row5\" >5</th>\n",
              "                        <td id=\"T_828ad1a0_813c_11ec_9877_9828a63322d5row5_col0\" class=\"data row5 col0\" >0.8140</td>\n",
              "                        <td id=\"T_828ad1a0_813c_11ec_9877_9828a63322d5row5_col1\" class=\"data row5 col1\" >0.8177</td>\n",
              "                        <td id=\"T_828ad1a0_813c_11ec_9877_9828a63322d5row5_col2\" class=\"data row5 col2\" >0.9655</td>\n",
              "                        <td id=\"T_828ad1a0_813c_11ec_9877_9828a63322d5row5_col3\" class=\"data row5 col3\" >0.8000</td>\n",
              "                        <td id=\"T_828ad1a0_813c_11ec_9877_9828a63322d5row5_col4\" class=\"data row5 col4\" >0.8750</td>\n",
              "                        <td id=\"T_828ad1a0_813c_11ec_9877_9828a63322d5row5_col5\" class=\"data row5 col5\" >0.5235</td>\n",
              "                        <td id=\"T_828ad1a0_813c_11ec_9877_9828a63322d5row5_col6\" class=\"data row5 col6\" >0.5606</td>\n",
              "            </tr>\n",
              "            <tr>\n",
              "                        <th id=\"T_828ad1a0_813c_11ec_9877_9828a63322d5level0_row6\" class=\"row_heading level0 row6\" >6</th>\n",
              "                        <td id=\"T_828ad1a0_813c_11ec_9877_9828a63322d5row6_col0\" class=\"data row6 col0\" >0.7907</td>\n",
              "                        <td id=\"T_828ad1a0_813c_11ec_9877_9828a63322d5row6_col1\" class=\"data row6 col1\" >0.7340</td>\n",
              "                        <td id=\"T_828ad1a0_813c_11ec_9877_9828a63322d5row6_col2\" class=\"data row6 col2\" >0.9655</td>\n",
              "                        <td id=\"T_828ad1a0_813c_11ec_9877_9828a63322d5row6_col3\" class=\"data row6 col3\" >0.7778</td>\n",
              "                        <td id=\"T_828ad1a0_813c_11ec_9877_9828a63322d5row6_col4\" class=\"data row6 col4\" >0.8615</td>\n",
              "                        <td id=\"T_828ad1a0_813c_11ec_9877_9828a63322d5row6_col5\" class=\"data row6 col5\" >0.4526</td>\n",
              "                        <td id=\"T_828ad1a0_813c_11ec_9877_9828a63322d5row6_col6\" class=\"data row6 col6\" >0.5002</td>\n",
              "            </tr>\n",
              "            <tr>\n",
              "                        <th id=\"T_828ad1a0_813c_11ec_9877_9828a63322d5level0_row7\" class=\"row_heading level0 row7\" >7</th>\n",
              "                        <td id=\"T_828ad1a0_813c_11ec_9877_9828a63322d5row7_col0\" class=\"data row7 col0\" >0.8605</td>\n",
              "                        <td id=\"T_828ad1a0_813c_11ec_9877_9828a63322d5row7_col1\" class=\"data row7 col1\" >0.8350</td>\n",
              "                        <td id=\"T_828ad1a0_813c_11ec_9877_9828a63322d5row7_col2\" class=\"data row7 col2\" >1.0000</td>\n",
              "                        <td id=\"T_828ad1a0_813c_11ec_9877_9828a63322d5row7_col3\" class=\"data row7 col3\" >0.8286</td>\n",
              "                        <td id=\"T_828ad1a0_813c_11ec_9877_9828a63322d5row7_col4\" class=\"data row7 col4\" >0.9062</td>\n",
              "                        <td id=\"T_828ad1a0_813c_11ec_9877_9828a63322d5row7_col5\" class=\"data row7 col5\" >0.6427</td>\n",
              "                        <td id=\"T_828ad1a0_813c_11ec_9877_9828a63322d5row7_col6\" class=\"data row7 col6\" >0.6881</td>\n",
              "            </tr>\n",
              "            <tr>\n",
              "                        <th id=\"T_828ad1a0_813c_11ec_9877_9828a63322d5level0_row8\" class=\"row_heading level0 row8\" >8</th>\n",
              "                        <td id=\"T_828ad1a0_813c_11ec_9877_9828a63322d5row8_col0\" class=\"data row8 col0\" >0.7907</td>\n",
              "                        <td id=\"T_828ad1a0_813c_11ec_9877_9828a63322d5row8_col1\" class=\"data row8 col1\" >0.7488</td>\n",
              "                        <td id=\"T_828ad1a0_813c_11ec_9877_9828a63322d5row8_col2\" class=\"data row8 col2\" >1.0000</td>\n",
              "                        <td id=\"T_828ad1a0_813c_11ec_9877_9828a63322d5row8_col3\" class=\"data row8 col3\" >0.7632</td>\n",
              "                        <td id=\"T_828ad1a0_813c_11ec_9877_9828a63322d5row8_col4\" class=\"data row8 col4\" >0.8657</td>\n",
              "                        <td id=\"T_828ad1a0_813c_11ec_9877_9828a63322d5row8_col5\" class=\"data row8 col5\" >0.4284</td>\n",
              "                        <td id=\"T_828ad1a0_813c_11ec_9877_9828a63322d5row8_col6\" class=\"data row8 col6\" >0.5221</td>\n",
              "            </tr>\n",
              "            <tr>\n",
              "                        <th id=\"T_828ad1a0_813c_11ec_9877_9828a63322d5level0_row9\" class=\"row_heading level0 row9\" >9</th>\n",
              "                        <td id=\"T_828ad1a0_813c_11ec_9877_9828a63322d5row9_col0\" class=\"data row9 col0\" >0.8810</td>\n",
              "                        <td id=\"T_828ad1a0_813c_11ec_9877_9828a63322d5row9_col1\" class=\"data row9 col1\" >0.8647</td>\n",
              "                        <td id=\"T_828ad1a0_813c_11ec_9877_9828a63322d5row9_col2\" class=\"data row9 col2\" >0.9310</td>\n",
              "                        <td id=\"T_828ad1a0_813c_11ec_9877_9828a63322d5row9_col3\" class=\"data row9 col3\" >0.9000</td>\n",
              "                        <td id=\"T_828ad1a0_813c_11ec_9877_9828a63322d5row9_col4\" class=\"data row9 col4\" >0.9153</td>\n",
              "                        <td id=\"T_828ad1a0_813c_11ec_9877_9828a63322d5row9_col5\" class=\"data row9 col5\" >0.7154</td>\n",
              "                        <td id=\"T_828ad1a0_813c_11ec_9877_9828a63322d5row9_col6\" class=\"data row9 col6\" >0.7166</td>\n",
              "            </tr>\n",
              "            <tr>\n",
              "                        <th id=\"T_828ad1a0_813c_11ec_9877_9828a63322d5level0_row10\" class=\"row_heading level0 row10\" >Mean</th>\n",
              "                        <td id=\"T_828ad1a0_813c_11ec_9877_9828a63322d5row10_col0\" class=\"data row10 col0\" >0.8114</td>\n",
              "                        <td id=\"T_828ad1a0_813c_11ec_9877_9828a63322d5row10_col1\" class=\"data row10 col1\" >0.7536</td>\n",
              "                        <td id=\"T_828ad1a0_813c_11ec_9877_9828a63322d5row10_col2\" class=\"data row10 col2\" >0.9729</td>\n",
              "                        <td id=\"T_828ad1a0_813c_11ec_9877_9828a63322d5row10_col3\" class=\"data row10 col3\" >0.8006</td>\n",
              "                        <td id=\"T_828ad1a0_813c_11ec_9877_9828a63322d5row10_col4\" class=\"data row10 col4\" >0.8771</td>\n",
              "                        <td id=\"T_828ad1a0_813c_11ec_9877_9828a63322d5row10_col5\" class=\"data row10 col5\" >0.4853</td>\n",
              "                        <td id=\"T_828ad1a0_813c_11ec_9877_9828a63322d5row10_col6\" class=\"data row10 col6\" >0.5412</td>\n",
              "            </tr>\n",
              "            <tr>\n",
              "                        <th id=\"T_828ad1a0_813c_11ec_9877_9828a63322d5level0_row11\" class=\"row_heading level0 row11\" >SD</th>\n",
              "                        <td id=\"T_828ad1a0_813c_11ec_9877_9828a63322d5row11_col0\" class=\"data row11 col0\" >0.0362</td>\n",
              "                        <td id=\"T_828ad1a0_813c_11ec_9877_9828a63322d5row11_col1\" class=\"data row11 col1\" >0.0762</td>\n",
              "                        <td id=\"T_828ad1a0_813c_11ec_9877_9828a63322d5row11_col2\" class=\"data row11 col2\" >0.0254</td>\n",
              "                        <td id=\"T_828ad1a0_813c_11ec_9877_9828a63322d5row11_col3\" class=\"data row11 col3\" >0.0446</td>\n",
              "                        <td id=\"T_828ad1a0_813c_11ec_9877_9828a63322d5row11_col4\" class=\"data row11 col4\" >0.0197</td>\n",
              "                        <td id=\"T_828ad1a0_813c_11ec_9877_9828a63322d5row11_col5\" class=\"data row11 col5\" >0.1281</td>\n",
              "                        <td id=\"T_828ad1a0_813c_11ec_9877_9828a63322d5row11_col6\" class=\"data row11 col6\" >0.0992</td>\n",
              "            </tr>\n",
              "    </tbody></table>"
            ],
            "text/plain": [
              "<pandas.io.formats.style.Styler at 0x199808525e0>"
            ]
          },
          "metadata": {},
          "output_type": "display_data"
        }
      ],
      "source": [
        "# load dataset\n",
        "#from pycaret.datasets import get_data\n",
        "data = train\n",
        "# init setup\n",
        "from pycaret.classification import *\n",
        "s = setup(data, target = 'Loan_Status', session_id = 123)\n",
        "# train model\n",
        "lr = create_model('lr')\n"
      ]
    },
    {
      "cell_type": "code",
      "execution_count": null,
      "metadata": {
        "id": "DbNCty9QvWIb"
      },
      "outputs": [],
      "source": []
    },
    {
      "cell_type": "code",
      "execution_count": null,
      "metadata": {
        "id": "ZkdZoUp3vWIc"
      },
      "outputs": [],
      "source": []
    },
    {
      "cell_type": "code",
      "execution_count": null,
      "metadata": {
        "id": "v1zC_Mf4vWIc"
      },
      "outputs": [],
      "source": []
    }
  ],
  "metadata": {
    "kernelspec": {
      "display_name": "Python 3",
      "language": "python",
      "name": "python3"
    },
    "language_info": {
      "codemirror_mode": {
        "name": "ipython",
        "version": 3
      },
      "file_extension": ".py",
      "mimetype": "text/x-python",
      "name": "python",
      "nbconvert_exporter": "python",
      "pygments_lexer": "ipython3",
      "version": "3.8.4"
    },
    "colab": {
      "provenance": []
    }
  },
  "nbformat": 4,
  "nbformat_minor": 0
}